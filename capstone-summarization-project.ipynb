{
 "cells": [
  {
   "cell_type": "markdown",
   "source": [
    "# Summerizer Web App\n",
    "## A summer summarization project\n",
    "\n",
    "### Preliminary\n",
    "\n",
    "All the libraries needed to run the following cells."
   ],
   "metadata": {
    "collapsed": false,
    "pycharm": {
     "name": "#%% md\n"
    }
   }
  },
  {
   "cell_type": "code",
   "execution_count": 6,
   "outputs": [],
   "source": [
    "from summerizer.utils.preprocessor import Preprocessor\n",
    "from summerizer.freqsum import FreqSum"
   ],
   "metadata": {
    "collapsed": false,
    "pycharm": {
     "name": "#%%\n",
     "is_executing": false
    }
   }
  },
  {
   "cell_type": "markdown",
   "source": [
    "Run the preprocessor over DUC 2003 documents."
   ],
   "metadata": {
    "collapsed": false
   }
  },
  {
   "cell_type": "code",
   "execution_count": 2,
   "outputs": [
    {
     "name": "stdout",
     "text": [
      "Processing document /Users/nathan/Documents/Data/summarization/duc2003/0\n\tProcessing sub-document 0\n\tProcessing sub-document 1\n\tProcessing sub-document 2\n\tProcessing sub-document 3\n\tProcessing sub-document 4\n\tProcessing sub-document 5\n\tProcessing sub-document 6\n\tProcessing sub-document 7\n\tProcessing sub-document 8\n\tProcessing sub-document 9\n",
      "\tProcessing sub-document 10\n\tProcessing sub-document 11\n\tProcessing sub-document keys\nProcessing document /Users/nathan/Documents/Data/summarization/duc2003/1\n\tProcessing sub-document 0\n\tProcessing sub-document 1\n\tProcessing sub-document 2\n\tProcessing sub-document 3\n\tProcessing sub-document 4\n\tProcessing sub-document 5\n\tProcessing sub-document 6\n",
      "\tProcessing sub-document 7\n\tProcessing sub-document 8\n\tProcessing sub-document 9\n\tProcessing sub-document 10\n\tProcessing sub-document keys\nProcessing document /Users/nathan/Documents/Data/summarization/duc2003/2\n\tProcessing sub-document 0\n\tProcessing sub-document 1\n\tProcessing sub-document 2\n\tProcessing sub-document 3\n\tProcessing sub-document 4\n\tProcessing sub-document 5\n\tProcessing sub-document 6\n",
      "\tProcessing sub-document 7\n\tProcessing sub-document 8\n\tProcessing sub-document 9\n\tProcessing sub-document keys\nProcessing document /Users/nathan/Documents/Data/summarization/duc2003/3\n\tProcessing sub-document 0\n\tProcessing sub-document 1\n\tProcessing sub-document 2\n\tProcessing sub-document 3\n",
      "\tProcessing sub-document 4\n\tProcessing sub-document 5\n\tProcessing sub-document 6\n\tProcessing sub-document 7\n\tProcessing sub-document 8\n\tProcessing sub-document 9\n\tProcessing sub-document keys\nProcessing document /Users/nathan/Documents/Data/summarization/duc2003/4\n\tProcessing sub-document 0\n\tProcessing sub-document 1\n\tProcessing sub-document 2\n",
      "\tProcessing sub-document 3\n\tProcessing sub-document 4\n\tProcessing sub-document 5\n\tProcessing sub-document 6\n\tProcessing sub-document 7\n\tProcessing sub-document 8\n\tProcessing sub-document 9\n\tProcessing sub-document 10\n\tProcessing sub-document keys\nProcessing document /Users/nathan/Documents/Data/summarization/duc2003/5\n\tProcessing sub-document 0\n",
      "\tProcessing sub-document 1\n\tProcessing sub-document 2\n\tProcessing sub-document 3\n\tProcessing sub-document 4\n\tProcessing sub-document 5\n\tProcessing sub-document 6\n\tProcessing sub-document 7\n\tProcessing sub-document 8\n\tProcessing sub-document 9\n\tProcessing sub-document 10\n",
      "\tProcessing sub-document 11\n\tProcessing sub-document 12\n\tProcessing sub-document 13\n\tProcessing sub-document keys\nProcessing document /Users/nathan/Documents/Data/summarization/duc2003/6\n\tProcessing sub-document 0\n\tProcessing sub-document 1\n\tProcessing sub-document 2\n\tProcessing sub-document 3\n\tProcessing sub-document 4\n\tProcessing sub-document 5\n\tProcessing sub-document 6\n",
      "\tProcessing sub-document 7\n\tProcessing sub-document 8\n\tProcessing sub-document 9\n\tProcessing sub-document 10\n\tProcessing sub-document keys\nProcessing document /Users/nathan/Documents/Data/summarization/duc2003/7\n\tProcessing sub-document 0\n\tProcessing sub-document 1\n\tProcessing sub-document 2\n\tProcessing sub-document 3\n\tProcessing sub-document 4\n",
      "\tProcessing sub-document 5\n\tProcessing sub-document 6\n\tProcessing sub-document 7\n\tProcessing sub-document 8\n\tProcessing sub-document 9\n\tProcessing sub-document 10\n\tProcessing sub-document 11\n",
      "\tProcessing sub-document 12\n\tProcessing sub-document 13\n\tProcessing sub-document keys\nProcessing document /Users/nathan/Documents/Data/summarization/duc2003/8\n\tProcessing sub-document 0\n\tProcessing sub-document 1\n\tProcessing sub-document 2\n\tProcessing sub-document 3\n\tProcessing sub-document 4\n\tProcessing sub-document 5\n\tProcessing sub-document 6\n\tProcessing sub-document 7\n",
      "\tProcessing sub-document 8\n\tProcessing sub-document 9\n",
      "\tProcessing sub-document 10\n\tProcessing sub-document 11\n\tProcessing sub-document 12\n\tProcessing sub-document keys\nProcessing document /Users/nathan/Documents/Data/summarization/duc2003/9\n\tProcessing sub-document 0\n\tProcessing sub-document 1\n\tProcessing sub-document 2\n\tProcessing sub-document 3\n\tProcessing sub-document 4\n\tProcessing sub-document 5\n\tProcessing sub-document 6\n\tProcessing sub-document 7\n\tProcessing sub-document 8\n",
      "\tProcessing sub-document 9\n\tProcessing sub-document 10\n\tProcessing sub-document keys\nProcessing document /Users/nathan/Documents/Data/summarization/duc2003/10\n\tProcessing sub-document 0\n\tProcessing sub-document 1\n\tProcessing sub-document 2\n\tProcessing sub-document 3\n\tProcessing sub-document 4\n\tProcessing sub-document 5\n\tProcessing sub-document 6\n\tProcessing sub-document 7\n",
      "\tProcessing sub-document 8\n\tProcessing sub-document 9\n\tProcessing sub-document keys\nProcessing document /Users/nathan/Documents/Data/summarization/duc2003/11\n\tProcessing sub-document 0\n\tProcessing sub-document 1\n\tProcessing sub-document 2\n\tProcessing sub-document 3\n\tProcessing sub-document 4\n\tProcessing sub-document 5\n\tProcessing sub-document 6",
      "\n\tProcessing sub-document 7\n\tProcessing sub-document 8\n\tProcessing sub-document 9\n\tProcessing sub-document 10\n\tProcessing sub-document keys\n",
      "Processing document /Users/nathan/Documents/Data/summarization/duc2003/12\n\tProcessing sub-document 0\n\tProcessing sub-document 1\n\tProcessing sub-document 2\n\tProcessing sub-document 3\n\tProcessing sub-document 4\n\tProcessing sub-document 5\n\tProcessing sub-document 6\n\tProcessing sub-document 7\n",
      "\tProcessing sub-document 8\n\tProcessing sub-document 9\n\tProcessing sub-document 10\n\tProcessing sub-document 11\n\tProcessing sub-document 12\n\tProcessing sub-document keys\nProcessing document /Users/nathan/Documents/Data/summarization/duc2003/13\n\tProcessing sub-document 0\n\tProcessing sub-document 1\n\tProcessing sub-document 2\n\tProcessing sub-document 3\n\tProcessing sub-document 4\n",
      "\tProcessing sub-document 5\n\tProcessing sub-document 6\n\tProcessing sub-document 7\n\tProcessing sub-document 8\n\tProcessing sub-document 9\n\tProcessing sub-document 10\n\tProcessing sub-document 11\n\tProcessing sub-document 12\n\tProcessing sub-document keys\nProcessing document /Users/nathan/Documents/Data/summarization/duc2003/14\n\tProcessing sub-document 0\n\tProcessing sub-document 1\n\tProcessing sub-document 2\n\tProcessing sub-document 3\n\tProcessing sub-document 4\n\tProcessing sub-document 5\n\tProcessing sub-document 6\n\tProcessing sub-document 7\n",
      "\tProcessing sub-document 8\n\tProcessing sub-document 9\n\tProcessing sub-document keys\nProcessing document /Users/nathan/Documents/Data/summarization/duc2003/15\n\tProcessing sub-document 0\n\tProcessing sub-document 1\n\tProcessing sub-document 2\n\tProcessing sub-document 3\n\tProcessing sub-document 4\n",
      "\tProcessing sub-document 5\n\tProcessing sub-document 6\n\tProcessing sub-document 7\n\tProcessing sub-document 8\n\tProcessing sub-document keys\nProcessing document /Users/nathan/Documents/Data/summarization/duc2003/16\n\tProcessing sub-document 0\n",
      "\tProcessing sub-document 1\n\tProcessing sub-document 2\n\tProcessing sub-document 3\n\tProcessing sub-document 4\n\tProcessing sub-document 5\n\tProcessing sub-document 6\n\tProcessing sub-document 7\n\tProcessing sub-document 8\n",
      "\tProcessing sub-document 9\n\tProcessing sub-document keys\nProcessing document /Users/nathan/Documents/Data/summarization/duc2003/17\n\tProcessing sub-document 0\n\tProcessing sub-document 1\n\tProcessing sub-document 2\n\tProcessing sub-document 3\n\tProcessing sub-document 4\n",
      "\tProcessing sub-document 5\n\tProcessing sub-document 6\n\tProcessing sub-document 7\n\tProcessing sub-document 8\n\tProcessing sub-document keys\nProcessing document /Users/nathan/Documents/Data/summarization/duc2003/18\n\tProcessing sub-document 0\n\tProcessing sub-document 1\n\tProcessing sub-document 2\n\tProcessing sub-document 3\n\tProcessing sub-document 4\n\tProcessing sub-document 5\n",
      "\tProcessing sub-document 6\n\tProcessing sub-document 7\n\tProcessing sub-document keys\nProcessing document /Users/nathan/Documents/Data/summarization/duc2003/19\n\tProcessing sub-document 0\n\tProcessing sub-document 1\n\tProcessing sub-document 2\n\tProcessing sub-document 3\n\tProcessing sub-document 4\n\tProcessing sub-document 5\n\tProcessing sub-document 6\n\tProcessing sub-document 7\n\tProcessing sub-document 8\n\tProcessing sub-document 9\n\tProcessing sub-document keys\nProcessing document /Users/nathan/Documents/Data/summarization/duc2003/20\n\tProcessing sub-document 0\n\tProcessing sub-document 1\n\tProcessing sub-document 2\n\tProcessing sub-document 3\n\tProcessing sub-document 4\n",
      "\tProcessing sub-document 5\n\tProcessing sub-document 6\n\tProcessing sub-document 7\n\tProcessing sub-document 8\n\tProcessing sub-document 9\n\tProcessing sub-document 10\n\tProcessing sub-document keys\nProcessing document /Users/nathan/Documents/Data/summarization/duc2003/21\n\tProcessing sub-document 0\n\tProcessing sub-document 1\n\tProcessing sub-document 2\n\tProcessing sub-document 3\n\tProcessing sub-document 4\n",
      "\tProcessing sub-document 5\n\tProcessing sub-document 6\n\tProcessing sub-document 7\n\tProcessing sub-document 8\n\tProcessing sub-document 9\n\tProcessing sub-document keys\nProcessing document /Users/nathan/Documents/Data/summarization/duc2003/22\n\tProcessing sub-document 0\n\tProcessing sub-document 1\n\tProcessing sub-document 2\n\tProcessing sub-document 3\n",
      "\tProcessing sub-document 4\n\tProcessing sub-document 5\n\tProcessing sub-document 6\n\tProcessing sub-document 7\n\tProcessing sub-document 8\n\tProcessing sub-document keys\nProcessing document /Users/nathan/Documents/Data/summarization/duc2003/23\n\tProcessing sub-document 0\n\tProcessing sub-document 1\n\tProcessing sub-document 2\n\tProcessing sub-document 3\n\tProcessing sub-document 4\n",
      "\tProcessing sub-document 5\n\tProcessing sub-document 6\n\tProcessing sub-document 7\n\tProcessing sub-document 8\n\tProcessing sub-document 9\n\tProcessing sub-document keys\nProcessing document /Users/nathan/Documents/Data/summarization/duc2003/24\n\tProcessing sub-document 0\n\tProcessing sub-document 1\n\tProcessing sub-document 2\n\tProcessing sub-document 3\n\tProcessing sub-document 4\n",
      "\tProcessing sub-document 5\n\tProcessing sub-document 6\n\tProcessing sub-document 7\n\tProcessing sub-document 8\n\tProcessing sub-document 9\n\tProcessing sub-document keys\nProcessing document /Users/nathan/Documents/Data/summarization/duc2003/25\n\tProcessing sub-document 0\n\tProcessing sub-document 1\n\tProcessing sub-document 2\n\tProcessing sub-document 3\n",
      "\tProcessing sub-document 4\n\tProcessing sub-document 5\n\tProcessing sub-document 6\n\tProcessing sub-document 7\n\tProcessing sub-document 8\n\tProcessing sub-document 9\n\tProcessing sub-document keys\nProcessing document /Users/nathan/Documents/Data/summarization/duc2003/26\n\tProcessing sub-document 0\n\tProcessing sub-document 1\n",
      "\tProcessing sub-document 2\n\tProcessing sub-document 3\n\tProcessing sub-document 4\n\tProcessing sub-document 5\n\tProcessing sub-document 6\n\tProcessing sub-document 7\n\tProcessing sub-document 8\n\tProcessing sub-document 9\n\tProcessing sub-document 10\n\tProcessing sub-document keys\nProcessing document /Users/nathan/Documents/Data/summarization/duc2003/27\n\tProcessing sub-document 0\n\tProcessing sub-document 1\n\tProcessing sub-document 2\n",
      "\tProcessing sub-document 3\n\tProcessing sub-document 4\n\tProcessing sub-document 5\n\tProcessing sub-document 6\n\tProcessing sub-document 7\n\tProcessing sub-document 8\n\tProcessing sub-document 9\n\tProcessing sub-document 10\n\tProcessing sub-document 11\n\tProcessing sub-document 12\n\tProcessing sub-document keys\nProcessing document /Users/nathan/Documents/Data/summarization/duc2003/28\n\tProcessing sub-document 0\n\tProcessing sub-document 1\n\tProcessing sub-document 2\n\tProcessing sub-document 3\n\tProcessing sub-document 4\n\tProcessing sub-document 5\n\tProcessing sub-document 6\n\tProcessing sub-document 7\n\tProcessing sub-document 8\n\tProcessing sub-document 9\n",
      "\tProcessing sub-document 10\n\tProcessing sub-document 11\n\tProcessing sub-document keys\nProcessing document /Users/nathan/Documents/Data/summarization/duc2003/29\n\tProcessing sub-document 0\n\tProcessing sub-document 1\n\tProcessing sub-document 2\n\tProcessing sub-document 3\n\tProcessing sub-document 4\n\tProcessing sub-document 5\n\tProcessing sub-document 6\n\tProcessing sub-document 7\n\tProcessing sub-document 8\n",
      "\tProcessing sub-document 9\n\tProcessing sub-document keys\nProcessing document /Users/nathan/Documents/Data/summarization/duc2003/30\n\tProcessing sub-document 0\n\tProcessing sub-document 1\n\tProcessing sub-document 2\n\tProcessing sub-document 3\n\tProcessing sub-document 4\n\tProcessing sub-document 5\n\tProcessing sub-document 6\n\tProcessing sub-document 7\n\tProcessing sub-document 8\n\tProcessing sub-document 9\n\tProcessing sub-document keys\nProcessing document /Users/nathan/Documents/Data/summarization/duc2003/31\n\tProcessing sub-document 0\n",
      "\tProcessing sub-document 1\n\tProcessing sub-document 2\n\tProcessing sub-document 3\n\tProcessing sub-document 4\n\tProcessing sub-document 5\n\tProcessing sub-document 6\n\tProcessing sub-document 7\n\tProcessing sub-document 8\n",
      "\tProcessing sub-document 9\n\tProcessing sub-document keys\nProcessing document /Users/nathan/Documents/Data/summarization/duc2003/32\n\tProcessing sub-document 0\n\tProcessing sub-document 1\n\tProcessing sub-document 2\n\tProcessing sub-document 3\n\tProcessing sub-document 4\n\tProcessing sub-document 5\n\tProcessing sub-document 6\n\tProcessing sub-document 7\n\tProcessing sub-document 8\n\tProcessing sub-document 9\n\tProcessing sub-document keys\n",
      "Processing document /Users/nathan/Documents/Data/summarization/duc2003/33\n\tProcessing sub-document 0\n\tProcessing sub-document 1\n\tProcessing sub-document 2\n\tProcessing sub-document 3\n\tProcessing sub-document 4\n\tProcessing sub-document 5\n\tProcessing sub-document 6\n",
      "\tProcessing sub-document 7\n\tProcessing sub-document 8\n\tProcessing sub-document 9\n\tProcessing sub-document keys\nProcessing document /Users/nathan/Documents/Data/summarization/duc2003/34\n\tProcessing sub-document 0\n\tProcessing sub-document 1\n\tProcessing sub-document 2\n\tProcessing sub-document 3\n\tProcessing sub-document 4\n\tProcessing sub-document 5\n\tProcessing sub-document 6\n\tProcessing sub-document 7\n\tProcessing sub-document 8\n\tProcessing sub-document 9\n",
      "\tProcessing sub-document keys\nProcessing document /Users/nathan/Documents/Data/summarization/duc2003/35\n\tProcessing sub-document 0\n\tProcessing sub-document 1\n\tProcessing sub-document 2\n\tProcessing sub-document 3\n\tProcessing sub-document 4\n\tProcessing sub-document 5\n\tProcessing sub-document 6\n\tProcessing sub-document 7\n\tProcessing sub-document 8\n\tProcessing sub-document 9\n\tProcessing sub-document keys\nProcessing document /Users/nathan/Documents/Data/summarization/duc2003/36\n\tProcessing sub-document 0\n\tProcessing sub-document 1\n",
      "\tProcessing sub-document 2\n\tProcessing sub-document 3\n\tProcessing sub-document 4\n\tProcessing sub-document 5\n\tProcessing sub-document 6\n\tProcessing sub-document 7\n\tProcessing sub-document 8\n",
      "\tProcessing sub-document 9\n\tProcessing sub-document keys\nProcessing document /Users/nathan/Documents/Data/summarization/duc2003/37\n\tProcessing sub-document 0\n\tProcessing sub-document 1\n\tProcessing sub-document 2\n\tProcessing sub-document 3\n\tProcessing sub-document 4\n\tProcessing sub-document 5\n\tProcessing sub-document 6\n\tProcessing sub-document 7\n\tProcessing sub-document 8\n",
      "\tProcessing sub-document 9\n\tProcessing sub-document keys\nProcessing document /Users/nathan/Documents/Data/summarization/duc2003/38\n\tProcessing sub-document 0\n\tProcessing sub-document 1\n\tProcessing sub-document 2\n\tProcessing sub-document 3\n\tProcessing sub-document 4\n\tProcessing sub-document 5\n\tProcessing sub-document 6\n\tProcessing sub-document 7\n\tProcessing sub-document 8\n\tProcessing sub-document 9\n\tProcessing sub-document keys\nProcessing document /Users/nathan/Documents/Data/summarization/duc2003/39\n\tProcessing sub-document 0\n",
      "\tProcessing sub-document 1\n\tProcessing sub-document 2\n\tProcessing sub-document 3\n\tProcessing sub-document 4\n\tProcessing sub-document 5\n\tProcessing sub-document 6\n\tProcessing sub-document 7\n\tProcessing sub-document 8\n\tProcessing sub-document 9\n",
      "\tProcessing sub-document keys\nProcessing document /Users/nathan/Documents/Data/summarization/duc2003/40\n\tProcessing sub-document 0\n\tProcessing sub-document 1\n\tProcessing sub-document 2\n\tProcessing sub-document 3\n\tProcessing sub-document 4\n\tProcessing sub-document 5\n\tProcessing sub-document 6\n\tProcessing sub-document 7\n\tProcessing sub-document 8\n\tProcessing sub-document 9\n\tProcessing sub-document keys\nProcessing document /Users/nathan/Documents/Data/summarization/duc2003/41\n\tProcessing sub-document 0\n\tProcessing sub-document 1\n",
      "\tProcessing sub-document 2\n\tProcessing sub-document 3\n\tProcessing sub-document 4\n\tProcessing sub-document 5\n\tProcessing sub-document 6\n\tProcessing sub-document 7\n\tProcessing sub-document 8\n\tProcessing sub-document 9\n\tProcessing sub-document keys\nProcessing document /Users/nathan/Documents/Data/summarization/duc2003/42\n\tProcessing sub-document 0\n",
      "\tProcessing sub-document 1\n\tProcessing sub-document 2\n\tProcessing sub-document 3\n\tProcessing sub-document 4\n\tProcessing sub-document 5\n\tProcessing sub-document 6\n\tProcessing sub-document 7\n\tProcessing sub-document 8\n\tProcessing sub-document 9\n",
      "\tProcessing sub-document keys\nProcessing document /Users/nathan/Documents/Data/summarization/duc2003/43\n\tProcessing sub-document 0\n\tProcessing sub-document 1\n\tProcessing sub-document 2\n\tProcessing sub-document 3\n",
      "\tProcessing sub-document 4\n\tProcessing sub-document 5\n\tProcessing sub-document 6\n\tProcessing sub-document 7\n\tProcessing sub-document 8\n\tProcessing sub-document 9\n\tProcessing sub-document keys\n",
      "Processing document /Users/nathan/Documents/Data/summarization/duc2003/44\n\tProcessing sub-document 0\n\tProcessing sub-document 1\n\tProcessing sub-document 2\n\tProcessing sub-document 3\n\tProcessing sub-document 4\n\tProcessing sub-document 5\n\tProcessing sub-document 6\n\tProcessing sub-document 7\n\tProcessing sub-document 8\n",
      "\tProcessing sub-document 9\n\tProcessing sub-document keys\nProcessing document /Users/nathan/Documents/Data/summarization/duc2003/45\n\tProcessing sub-document 0\n\tProcessing sub-document 1\n\tProcessing sub-document 2\n\tProcessing sub-document 3\n\tProcessing sub-document 4\n\tProcessing sub-document 5\n\tProcessing sub-document 6\n\tProcessing sub-document 7\n\tProcessing sub-document 8\n",
      "\tProcessing sub-document keys\nProcessing document /Users/nathan/Documents/Data/summarization/duc2003/46\n\tProcessing sub-document 0\n\tProcessing sub-document 1\n\tProcessing sub-document 2\n\tProcessing sub-document 3\n\tProcessing sub-document 4\n\tProcessing sub-document 5\n\tProcessing sub-document 6\n\tProcessing sub-document 7\n\tProcessing sub-document 8\n",
      "\tProcessing sub-document 9\n\tProcessing sub-document keys\nProcessing document /Users/nathan/Documents/Data/summarization/duc2003/47\n\tProcessing sub-document 0\n\tProcessing sub-document 1\n\tProcessing sub-document 2\n\tProcessing sub-document 3\n\tProcessing sub-document 4\n\tProcessing sub-document 5\n\tProcessing sub-document 6\n\tProcessing sub-document 7\n\tProcessing sub-document 8\n",
      "\tProcessing sub-document 9\n\tProcessing sub-document keys\nProcessing document /Users/nathan/Documents/Data/summarization/duc2003/48\n\tProcessing sub-document 0\n\tProcessing sub-document 1\n\tProcessing sub-document 2\n\tProcessing sub-document 3\n\tProcessing sub-document 4\n\tProcessing sub-document 5\n\tProcessing sub-document 6\n\tProcessing sub-document 7\n\tProcessing sub-document 8\n\tProcessing sub-document 9\n\tProcessing sub-document keys\nProcessing document /Users/nathan/Documents/Data/summarization/duc2003/49\n",
      "\tProcessing sub-document 0\n\tProcessing sub-document 1\n\tProcessing sub-document 2\n\tProcessing sub-document 3\n\tProcessing sub-document 4\n\tProcessing sub-document 5\n\tProcessing sub-document 6\n\tProcessing sub-document 7\n\tProcessing sub-document 8\n\tProcessing sub-document 9\n\tProcessing sub-document keys\nProcessing document /Users/nathan/Documents/Data/summarization/duc2003/50\n\tProcessing sub-document 0\n\tProcessing sub-document 1\n\tProcessing sub-document 2\n\tProcessing sub-document 3\n",
      "\tProcessing sub-document 4\n\tProcessing sub-document 5\n\tProcessing sub-document 6\n\tProcessing sub-document 7\n\tProcessing sub-document 8\n\tProcessing sub-document 9\n\tProcessing sub-document keys\nProcessing document /Users/nathan/Documents/Data/summarization/duc2003/51\n\tProcessing sub-document 0\n\tProcessing sub-document 1\n",
      "\tProcessing sub-document 2\n\tProcessing sub-document 3\n\tProcessing sub-document 4\n\tProcessing sub-document 5\n\tProcessing sub-document 6\n\tProcessing sub-document 7\n\tProcessing sub-document 8\n\tProcessing sub-document 9\n\tProcessing sub-document keys\nProcessing document /Users/nathan/Documents/Data/summarization/duc2003/52\n\tProcessing sub-document 0\n\tProcessing sub-document 1\n",
      "\tProcessing sub-document 2\n\tProcessing sub-document 3\n\tProcessing sub-document 4\n\tProcessing sub-document 5\n\tProcessing sub-document 6\n\tProcessing sub-document 7\n\tProcessing sub-document 8\n\tProcessing sub-document 9\n\tProcessing sub-document keys\nProcessing document /Users/nathan/Documents/Data/summarization/duc2003/53\n\tProcessing sub-document 0\n\tProcessing sub-document 1\n",
      "\tProcessing sub-document 2\n\tProcessing sub-document 3\n\tProcessing sub-document 4\n\tProcessing sub-document 5\n\tProcessing sub-document 6\n\tProcessing sub-document 7\n\tProcessing sub-document 8\n\tProcessing sub-document 9\n\tProcessing sub-document keys\nProcessing document /Users/nathan/Documents/Data/summarization/duc2003/54\n\tProcessing sub-document 0\n\tProcessing sub-document 1\n\tProcessing sub-document 2\n\tProcessing sub-document 3\n",
      "\tProcessing sub-document 4\n\tProcessing sub-document 5\n\tProcessing sub-document 6\n\tProcessing sub-document 7\n\tProcessing sub-document 8\n\tProcessing sub-document 9\n\tProcessing sub-document keys\nProcessing document /Users/nathan/Documents/Data/summarization/duc2003/55\n\tProcessing sub-document 0\n",
      "\tProcessing sub-document 1\n\tProcessing sub-document 2\n\tProcessing sub-document 3\n\tProcessing sub-document 4\n\tProcessing sub-document 5\n\tProcessing sub-document 6\n\tProcessing sub-document 7\n",
      "\tProcessing sub-document 8\n\tProcessing sub-document 9\n\tProcessing sub-document keys\nProcessing document /Users/nathan/Documents/Data/summarization/duc2003/56\n\tProcessing sub-document 0\n\tProcessing sub-document 1\n\tProcessing sub-document 2\n",
      "\tProcessing sub-document 3\n\tProcessing sub-document 4\n\tProcessing sub-document 5\n\tProcessing sub-document 6\n\tProcessing sub-document 7\n\tProcessing sub-document 8\n\tProcessing sub-document 9\n",
      "\tProcessing sub-document keys\nProcessing document /Users/nathan/Documents/Data/summarization/duc2003/57\n\tProcessing sub-document 0\n\tProcessing sub-document 1\n\tProcessing sub-document 2\n\tProcessing sub-document 3\n\tProcessing sub-document 4\n",
      "\tProcessing sub-document 5\n\tProcessing sub-document 6\n\tProcessing sub-document 7\n\tProcessing sub-document 8\n\tProcessing sub-document 9\n\tProcessing sub-document keys\nProcessing document /Users/nathan/Documents/Data/summarization/duc2003/58\n\tProcessing sub-document 0\n\tProcessing sub-document 1\n\tProcessing sub-document 2\n\tProcessing sub-document 3\n",
      "\tProcessing sub-document 4\n\tProcessing sub-document 5\n\tProcessing sub-document 6\n\tProcessing sub-document 7\n\tProcessing sub-document 8\n\tProcessing sub-document keys\nProcessing document /Users/nathan/Documents/Data/summarization/duc2003/59\n\tProcessing sub-document 0\n\tProcessing sub-document 1\n",
      "\tProcessing sub-document 2\n\tProcessing sub-document 3\n\tProcessing sub-document 4\n",
      "\tProcessing sub-document 5\n\tProcessing sub-document 6\n\tProcessing sub-document 7\n\tProcessing sub-document 8\n\tProcessing sub-document 9\n\tProcessing sub-document keys\n"
     ],
     "output_type": "stream"
    }
   ],
   "source": [
    "pre = Preprocessor(\"/Users/nathan/Documents/Data/summarization/duc2003/duc2003.filelist\")\n",
    "pre.run()"
   ],
   "metadata": {
    "collapsed": false,
    "pycharm": {
     "name": "#%%\n",
     "is_executing": false
    }
   }
  },
  {
   "cell_type": "markdown",
   "source": [
    "### FreqSum - The Baseline Model\n",
    "\n",
    "The first model to train and evaluate is the baseline. "
   ],
   "metadata": {
    "collapsed": false
   }
  },
  {
   "cell_type": "code",
   "execution_count": 2,
   "outputs": [
    {
     "name": "stdout",
     "text": [
      "Training on documents: \n/Users/nathan/Documents/Data/summarization/duc2003/0\nCreated FreqSum model over training docs...\nTesting on documents: \n/Users/nathan/Documents/Data/summarization/duc2003/0\n",
      "{'/Users/nathan/Documents/Data/summarization/duc2003/0': ['Unlike many genetic disorders such as cystic fibrosis and\\nTay-Sachs disease where anyone inheriting a flawed gene develops\\nthe disease, scientists believe schizophrenia is caused by the\\ninteraction of possibly dozens of abnormal genes, said Dr. Kenneth\\nKendler, professor of psychiatry and human genetics at Virginia\\nCommonwealth University and a member of the scientific advisory\\nboard of the National Alliance for Research on Schizophrenia and\\nDepression.', 'The study, said Dr. Robert Bilder, associate director for human\\nresearch at the Center for Advanced Brain Imaging of the Nathan\\nKline Institute for Psychiatric Research in Orangeburg, N.Y., is,\\nhe believes, the first to reveal, in schizophrenia, a structural\\nabnormality in more primitive brain areas, which are also involved\\nin emotional processing.']}\nScoring document /Users/nathan/Documents/Data/summarization/duc2003/0\n{'rouge-1': {'f': 0.2272727222959712, 'p': 0.2127659574468085, 'r': 0.24390243902439024}, 'rouge-2': {'f': 0.02702702204163715, 'p': 0.02564102564102564, 'r': 0.02857142857142857}, 'rouge-l': {'f': 0.18015097485234546, 'p': 0.1702127659574468, 'r': 0.1951219512195122}}\n"
     ],
     "output_type": "stream"
    }
   ],
   "source": [
    "freqSum = FreqSum()\n",
    "\n",
    "freqSum.training_dir = \"/Users/nathan/Documents/Data/summarization/duc2003\"\n",
    "freqSum.training_docs = [\"0\"]\n",
    "freqSum.test_dir = \"/Users/nathan/Documents/Data/summarization/duc2003\"\n",
    "freqSum.test_docs = [\"0\"]\n",
    "freqSum.train()\n",
    "summaries = freqSum.predict()\n",
    "print(summaries)\n",
    "scores = freqSum.score(summaries)\n",
    "print(scores)"
   ],
   "metadata": {
    "collapsed": false,
    "pycharm": {
     "name": "#%%\n",
     "is_executing": false
    }
   }
  },
  {
   "cell_type": "markdown",
   "source": [
    "Yay, we're able to get through the entire pipeline!\n",
    "\n",
    "### Full DUC 2003 & 2004 Tests\n",
    "\n",
    "Train and test over the entire DUC 2003 data set. The FreqSum model is unsupervised \n",
    "and therefore needs to be 'trained' and tested over the same documents."
   ],
   "metadata": {
    "collapsed": false
   }
  },
  {
   "cell_type": "code",
   "execution_count": 3,
   "outputs": [
    {
     "name": "stdout",
     "text": [
      "Training on documents: \n/Users/nathan/Documents/Data/summarization/duc2003/0\n/Users/nathan/Documents/Data/summarization/duc2003/1\n/Users/nathan/Documents/Data/summarization/duc2003/10\n",
      "/Users/nathan/Documents/Data/summarization/duc2003/11\n/Users/nathan/Documents/Data/summarization/duc2003/12\n",
      "/Users/nathan/Documents/Data/summarization/duc2003/13\n/Users/nathan/Documents/Data/summarization/duc2003/14\n/Users/nathan/Documents/Data/summarization/duc2003/15\n/Users/nathan/Documents/Data/summarization/duc2003/16\n",
      "/Users/nathan/Documents/Data/summarization/duc2003/17\n/Users/nathan/Documents/Data/summarization/duc2003/18\n/Users/nathan/Documents/Data/summarization/duc2003/19\n/Users/nathan/Documents/Data/summarization/duc2003/2\n",
      "/Users/nathan/Documents/Data/summarization/duc2003/20\n/Users/nathan/Documents/Data/summarization/duc2003/21\n/Users/nathan/Documents/Data/summarization/duc2003/22\n/Users/nathan/Documents/Data/summarization/duc2003/23\n/Users/nathan/Documents/Data/summarization/duc2003/24\n",
      "/Users/nathan/Documents/Data/summarization/duc2003/25\n/Users/nathan/Documents/Data/summarization/duc2003/26\n",
      "/Users/nathan/Documents/Data/summarization/duc2003/27\n/Users/nathan/Documents/Data/summarization/duc2003/28\n/Users/nathan/Documents/Data/summarization/duc2003/29\n/Users/nathan/Documents/Data/summarization/duc2003/3\n",
      "/Users/nathan/Documents/Data/summarization/duc2003/30\n/Users/nathan/Documents/Data/summarization/duc2003/31\n/Users/nathan/Documents/Data/summarization/duc2003/32\n",
      "/Users/nathan/Documents/Data/summarization/duc2003/33\n/Users/nathan/Documents/Data/summarization/duc2003/34\n/Users/nathan/Documents/Data/summarization/duc2003/35\n",
      "/Users/nathan/Documents/Data/summarization/duc2003/36\n/Users/nathan/Documents/Data/summarization/duc2003/37\n/Users/nathan/Documents/Data/summarization/duc2003/38\n/Users/nathan/Documents/Data/summarization/duc2003/39\n",
      "/Users/nathan/Documents/Data/summarization/duc2003/4\n/Users/nathan/Documents/Data/summarization/duc2003/40\n/Users/nathan/Documents/Data/summarization/duc2003/41\n",
      "/Users/nathan/Documents/Data/summarization/duc2003/42\n/Users/nathan/Documents/Data/summarization/duc2003/43\n/Users/nathan/Documents/Data/summarization/duc2003/44\n",
      "/Users/nathan/Documents/Data/summarization/duc2003/45\n/Users/nathan/Documents/Data/summarization/duc2003/46\n",
      "/Users/nathan/Documents/Data/summarization/duc2003/47\n/Users/nathan/Documents/Data/summarization/duc2003/48\n/Users/nathan/Documents/Data/summarization/duc2003/49\n/Users/nathan/Documents/Data/summarization/duc2003/5\n",
      "/Users/nathan/Documents/Data/summarization/duc2003/50\n/Users/nathan/Documents/Data/summarization/duc2003/51\n/Users/nathan/Documents/Data/summarization/duc2003/52\n",
      "/Users/nathan/Documents/Data/summarization/duc2003/53\n/Users/nathan/Documents/Data/summarization/duc2003/54\n/Users/nathan/Documents/Data/summarization/duc2003/55\n/Users/nathan/Documents/Data/summarization/duc2003/56\n",
      "/Users/nathan/Documents/Data/summarization/duc2003/57\n/Users/nathan/Documents/Data/summarization/duc2003/58\n",
      "/Users/nathan/Documents/Data/summarization/duc2003/59\n/Users/nathan/Documents/Data/summarization/duc2003/6\n/Users/nathan/Documents/Data/summarization/duc2003/7\n",
      "/Users/nathan/Documents/Data/summarization/duc2003/8\n/Users/nathan/Documents/Data/summarization/duc2003/9\n",
      "Created FreqSum model over training docs...\nTesting on documents: \n/Users/nathan/Documents/Data/summarization/duc2003/0\n",
      "/Users/nathan/Documents/Data/summarization/duc2003/1\n",
      "/Users/nathan/Documents/Data/summarization/duc2003/10\n",
      "/Users/nathan/Documents/Data/summarization/duc2003/11\n",
      "/Users/nathan/Documents/Data/summarization/duc2003/12\n",
      "/Users/nathan/Documents/Data/summarization/duc2003/13\n",
      "/Users/nathan/Documents/Data/summarization/duc2003/14\n",
      "/Users/nathan/Documents/Data/summarization/duc2003/15\n",
      "/Users/nathan/Documents/Data/summarization/duc2003/16\n",
      "/Users/nathan/Documents/Data/summarization/duc2003/17\n",
      "/Users/nathan/Documents/Data/summarization/duc2003/18\n",
      "/Users/nathan/Documents/Data/summarization/duc2003/19\n",
      "/Users/nathan/Documents/Data/summarization/duc2003/2\n",
      "/Users/nathan/Documents/Data/summarization/duc2003/20\n",
      "/Users/nathan/Documents/Data/summarization/duc2003/21\n",
      "/Users/nathan/Documents/Data/summarization/duc2003/22\n",
      "/Users/nathan/Documents/Data/summarization/duc2003/23\n",
      "/Users/nathan/Documents/Data/summarization/duc2003/24\n",
      "/Users/nathan/Documents/Data/summarization/duc2003/25\n",
      "/Users/nathan/Documents/Data/summarization/duc2003/26\n",
      "/Users/nathan/Documents/Data/summarization/duc2003/27\n",
      "/Users/nathan/Documents/Data/summarization/duc2003/28\n",
      "/Users/nathan/Documents/Data/summarization/duc2003/29\n",
      "/Users/nathan/Documents/Data/summarization/duc2003/3\n",
      "/Users/nathan/Documents/Data/summarization/duc2003/30\n",
      "/Users/nathan/Documents/Data/summarization/duc2003/31\n",
      "/Users/nathan/Documents/Data/summarization/duc2003/32\n",
      "/Users/nathan/Documents/Data/summarization/duc2003/33\n",
      "/Users/nathan/Documents/Data/summarization/duc2003/34\n",
      "/Users/nathan/Documents/Data/summarization/duc2003/35\n",
      "/Users/nathan/Documents/Data/summarization/duc2003/36\n",
      "/Users/nathan/Documents/Data/summarization/duc2003/37\n",
      "/Users/nathan/Documents/Data/summarization/duc2003/38\n",
      "/Users/nathan/Documents/Data/summarization/duc2003/39\n",
      "/Users/nathan/Documents/Data/summarization/duc2003/4\n",
      "/Users/nathan/Documents/Data/summarization/duc2003/40\n",
      "/Users/nathan/Documents/Data/summarization/duc2003/41\n",
      "/Users/nathan/Documents/Data/summarization/duc2003/42\n",
      "/Users/nathan/Documents/Data/summarization/duc2003/43\n",
      "/Users/nathan/Documents/Data/summarization/duc2003/44\n",
      "/Users/nathan/Documents/Data/summarization/duc2003/45\n",
      "/Users/nathan/Documents/Data/summarization/duc2003/46\n",
      "/Users/nathan/Documents/Data/summarization/duc2003/47\n",
      "/Users/nathan/Documents/Data/summarization/duc2003/48\n",
      "/Users/nathan/Documents/Data/summarization/duc2003/49\n",
      "/Users/nathan/Documents/Data/summarization/duc2003/5\n",
      "/Users/nathan/Documents/Data/summarization/duc2003/50\n",
      "/Users/nathan/Documents/Data/summarization/duc2003/51\n",
      "/Users/nathan/Documents/Data/summarization/duc2003/52\n",
      "/Users/nathan/Documents/Data/summarization/duc2003/53\n",
      "/Users/nathan/Documents/Data/summarization/duc2003/54\n",
      "/Users/nathan/Documents/Data/summarization/duc2003/55\n",
      "/Users/nathan/Documents/Data/summarization/duc2003/56\n",
      "/Users/nathan/Documents/Data/summarization/duc2003/57\n",
      "/Users/nathan/Documents/Data/summarization/duc2003/58\n",
      "/Users/nathan/Documents/Data/summarization/duc2003/59\n",
      "/Users/nathan/Documents/Data/summarization/duc2003/6\n",
      "/Users/nathan/Documents/Data/summarization/duc2003/7\n",
      "/Users/nathan/Documents/Data/summarization/duc2003/8\n",
      "/Users/nathan/Documents/Data/summarization/duc2003/9\n",
      "Scoring document /Users/nathan/Documents/Data/summarization/duc2003/0\nScoring document /Users/nathan/Documents/Data/summarization/duc2003/1\nScoring document /Users/nathan/Documents/Data/summarization/duc2003/10\nScoring document /Users/nathan/Documents/Data/summarization/duc2003/11\nScoring document /Users/nathan/Documents/Data/summarization/duc2003/12\nScoring document /Users/nathan/Documents/Data/summarization/duc2003/13\nScoring document /Users/nathan/Documents/Data/summarization/duc2003/14\nScoring document /Users/nathan/Documents/Data/summarization/duc2003/15\nScoring document /Users/nathan/Documents/Data/summarization/duc2003/16\nScoring document /Users/nathan/Documents/Data/summarization/duc2003/17\nScoring document /Users/nathan/Documents/Data/summarization/duc2003/18\nScoring document /Users/nathan/Documents/Data/summarization/duc2003/19\nScoring document /Users/nathan/Documents/Data/summarization/duc2003/2\nScoring document /Users/nathan/Documents/Data/summarization/duc2003/20\nScoring document /Users/nathan/Documents/Data/summarization/duc2003/21\nScoring document /Users/nathan/Documents/Data/summarization/duc2003/22\nScoring document /Users/nathan/Documents/Data/summarization/duc2003/23\nScoring document /Users/nathan/Documents/Data/summarization/duc2003/24\nScoring document /Users/nathan/Documents/Data/summarization/duc2003/25\nScoring document /Users/nathan/Documents/Data/summarization/duc2003/26\nScoring document /Users/nathan/Documents/Data/summarization/duc2003/27\nScoring document /Users/nathan/Documents/Data/summarization/duc2003/28\nScoring document /Users/nathan/Documents/Data/summarization/duc2003/29\nScoring document /Users/nathan/Documents/Data/summarization/duc2003/3\nScoring document /Users/nathan/Documents/Data/summarization/duc2003/30\nScoring document /Users/nathan/Documents/Data/summarization/duc2003/31\nScoring document /Users/nathan/Documents/Data/summarization/duc2003/32\nScoring document /Users/nathan/Documents/Data/summarization/duc2003/33\nScoring document /Users/nathan/Documents/Data/summarization/duc2003/34\nScoring document /Users/nathan/Documents/Data/summarization/duc2003/35\nScoring document /Users/nathan/Documents/Data/summarization/duc2003/36\nScoring document /Users/nathan/Documents/Data/summarization/duc2003/37\nScoring document /Users/nathan/Documents/Data/summarization/duc2003/38\nScoring document /Users/nathan/Documents/Data/summarization/duc2003/39\nScoring document /Users/nathan/Documents/Data/summarization/duc2003/4\nScoring document /Users/nathan/Documents/Data/summarization/duc2003/40\nScoring document /Users/nathan/Documents/Data/summarization/duc2003/41\nScoring document /Users/nathan/Documents/Data/summarization/duc2003/42\nScoring document /Users/nathan/Documents/Data/summarization/duc2003/43\nScoring document /Users/nathan/Documents/Data/summarization/duc2003/44\nScoring document /Users/nathan/Documents/Data/summarization/duc2003/45\nScoring document /Users/nathan/Documents/Data/summarization/duc2003/46\nScoring document /Users/nathan/Documents/Data/summarization/duc2003/47\nScoring document /Users/nathan/Documents/Data/summarization/duc2003/48\nScoring document /Users/nathan/Documents/Data/summarization/duc2003/49\nScoring document /Users/nathan/Documents/Data/summarization/duc2003/5\nScoring document /Users/nathan/Documents/Data/summarization/duc2003/50\nScoring document /Users/nathan/Documents/Data/summarization/duc2003/51\nScoring document /Users/nathan/Documents/Data/summarization/duc2003/52\nScoring document /Users/nathan/Documents/Data/summarization/duc2003/53\nScoring document /Users/nathan/Documents/Data/summarization/duc2003/54\nScoring document /Users/nathan/Documents/Data/summarization/duc2003/55\nScoring document /Users/nathan/Documents/Data/summarization/duc2003/56\nScoring document /Users/nathan/Documents/Data/summarization/duc2003/57\nScoring document /Users/nathan/Documents/Data/summarization/duc2003/58\nScoring document /Users/nathan/Documents/Data/summarization/duc2003/59\nScoring document /Users/nathan/Documents/Data/summarization/duc2003/6\nScoring document /Users/nathan/Documents/Data/summarization/duc2003/7\nScoring document /Users/nathan/Documents/Data/summarization/duc2003/8\nScoring document /Users/nathan/Documents/Data/summarization/duc2003/9\n",
      "{'rouge-1': {'f': 0.2419399320841259, 'p': 0.23116327251867486, 'r': 0.257305329156196}, 'rouge-2': {'f': 0.04759993844389655, 'p': 0.045246824023305446, 'r': 0.051248806097089476}, 'rouge-l': {'f': 0.20720402997373766, 'p': 0.20090841540191864, 'r': 0.22338210728082414}}\n"
     ],
     "output_type": "stream"
    }
   ],
   "source": [
    "freqSum.training_docs = [\"0\", \"1\", \"10\", \"11\", \"12\", \"13\", \"14\", \"15\", \"16\", \n",
    "                         \"17\", \"18\", \"19\", \"2\", \"20\", \"21\", \"22\", \"23\", \"24\", \n",
    "                         \"25\", \"26\", \"27\", \"28\", \"29\", \"3\", \"30\", \"31\", \"32\", \n",
    "                         \"33\", \"34\", \"35\", \"36\", \"37\", \"38\", \"39\", \"4\", \"40\",\n",
    "                         \"41\", \"42\", \"43\", \"44\", \"45\", \"46\", \"47\", \"48\", \"49\", \n",
    "                         \"5\", \"50\", \"51\", \"52\", \"53\", \"54\", \"55\", \"56\", \"57\", \n",
    "                         \"58\", \"59\", \"6\", \"7\", \"8\", \"9\"]\n",
    "freqSum.train()\n",
    "freqSum.test_docs = freqSum.training_docs\n",
    "summaries = freqSum.predict()\n",
    "scores = freqSum.score(summaries)\n",
    "print(scores)"
   ],
   "metadata": {
    "collapsed": false,
    "pycharm": {
     "name": "#%%\n",
     "is_executing": false
    }
   }
  },
  {
   "cell_type": "markdown",
   "source": [
    "DUC 2004 Test Data\n",
    "\n",
    "First, we need to preprocess this data..."
   ],
   "metadata": {
    "collapsed": false
   }
  },
  {
   "cell_type": "code",
   "execution_count": 5,
   "outputs": [
    {
     "name": "stdout",
     "text": [
      "Processing document /Users/nathan/Documents/Data/summarization/duc2004/0\n\tProcessing sub-document 0\n\tProcessing sub-document 1\n\tProcessing sub-document 2\n\tProcessing sub-document 3\n\tProcessing sub-document 4\n\tProcessing sub-document 5\n\tProcessing sub-document 6\n\tProcessing sub-document 7\n\tProcessing sub-document 8\n\tProcessing sub-document 9\n\tProcessing sub-document keys\nProcessing document /Users/nathan/Documents/Data/summarization/duc2004/1\n\tProcessing sub-document 0\n\tProcessing sub-document 1\n\tProcessing sub-document 2\n",
      "\tProcessing sub-document 3\n\tProcessing sub-document 4\n\tProcessing sub-document 5\n\tProcessing sub-document 6\n\tProcessing sub-document 7\n\tProcessing sub-document 8\n\tProcessing sub-document 9\n\tProcessing sub-document keys\nProcessing document /Users/nathan/Documents/Data/summarization/duc2004/2\n\tProcessing sub-document 0\n\tProcessing sub-document 1\n\tProcessing sub-document 2\n\tProcessing sub-document 3\n\tProcessing sub-document 4\n",
      "\tProcessing sub-document 5\n\tProcessing sub-document 6\n\tProcessing sub-document 7\n\tProcessing sub-document 8\n\tProcessing sub-document 9\n\tProcessing sub-document keys\nProcessing document /Users/nathan/Documents/Data/summarization/duc2004/3\n\tProcessing sub-document 0\n\tProcessing sub-document 1\n\tProcessing sub-document 2\n\tProcessing sub-document 3\n\tProcessing sub-document 4\n\tProcessing sub-document 5\n\tProcessing sub-document 6\n",
      "\tProcessing sub-document 7\n\tProcessing sub-document 8\n\tProcessing sub-document 9\n\tProcessing sub-document keys\nProcessing document /Users/nathan/Documents/Data/summarization/duc2004/4\n\tProcessing sub-document 0\n\tProcessing sub-document 1\n\tProcessing sub-document 2\n\tProcessing sub-document 3\n",
      "\tProcessing sub-document 4\n\tProcessing sub-document 5\n\tProcessing sub-document 6\n\tProcessing sub-document 7\n\tProcessing sub-document 8\n\tProcessing sub-document 9\n\tProcessing sub-document keys\nProcessing document /Users/nathan/Documents/Data/summarization/duc2004/5\n\tProcessing sub-document 0\n\tProcessing sub-document 1\n",
      "\tProcessing sub-document 2\n\tProcessing sub-document 3\n\tProcessing sub-document 4\n\tProcessing sub-document 5\n\tProcessing sub-document 6\n\tProcessing sub-document 7\n\tProcessing sub-document 8\n\tProcessing sub-document 9\n\tProcessing sub-document keys\nProcessing document /Users/nathan/Documents/Data/summarization/duc2004/6\n\tProcessing sub-document 0\n",
      "\tProcessing sub-document 1\n\tProcessing sub-document 2\n\tProcessing sub-document 3\n\tProcessing sub-document 4\n\tProcessing sub-document 5\n\tProcessing sub-document 6\n\tProcessing sub-document 7\n\tProcessing sub-document 8\n\tProcessing sub-document 9\n\tProcessing sub-document keys\nProcessing document /Users/nathan/Documents/Data/summarization/duc2004/7\n\tProcessing sub-document 0\n\tProcessing sub-document 1\n\tProcessing sub-document 2\n",
      "\tProcessing sub-document 3\n\tProcessing sub-document 4\n\tProcessing sub-document 5\n\tProcessing sub-document 6\n\tProcessing sub-document 7\n\tProcessing sub-document 8\n\tProcessing sub-document 9\n\tProcessing sub-document keys\nProcessing document /Users/nathan/Documents/Data/summarization/duc2004/8\n\tProcessing sub-document 0\n",
      "\tProcessing sub-document 1\n\tProcessing sub-document 2\n\tProcessing sub-document 3\n\tProcessing sub-document 4\n\tProcessing sub-document 5\n\tProcessing sub-document 6\n\tProcessing sub-document 7\n\tProcessing sub-document 8\n\tProcessing sub-document 9\n\tProcessing sub-document keys\nProcessing document /Users/nathan/Documents/Data/summarization/duc2004/9\n\tProcessing sub-document 0\n\tProcessing sub-document 1\n",
      "\tProcessing sub-document 2\n\tProcessing sub-document 3\n\tProcessing sub-document 4\n\tProcessing sub-document 5\n\tProcessing sub-document 6\n\tProcessing sub-document 7\n\tProcessing sub-document 8\n\tProcessing sub-document 9\n",
      "\tProcessing sub-document keys\nProcessing document /Users/nathan/Documents/Data/summarization/duc2004/10\n\tProcessing sub-document 0\n\tProcessing sub-document 1\n\tProcessing sub-document 2\n\tProcessing sub-document 3\n\tProcessing sub-document 4\n\tProcessing sub-document 5\n\tProcessing sub-document 6\n\tProcessing sub-document 7\n\tProcessing sub-document 8\n\tProcessing sub-document 9\n\tProcessing sub-document keys\nProcessing document /Users/nathan/Documents/Data/summarization/duc2004/11\n\tProcessing sub-document 0\n\tProcessing sub-document 1\n\tProcessing sub-document 2\n",
      "\tProcessing sub-document 3\n\tProcessing sub-document 4\n\tProcessing sub-document 5\n\tProcessing sub-document 6\n\tProcessing sub-document 7\n\tProcessing sub-document 8\n\tProcessing sub-document 9\n\tProcessing sub-document keys\nProcessing document /Users/nathan/Documents/Data/summarization/duc2004/12\n\tProcessing sub-document 0\n\tProcessing sub-document 1\n\tProcessing sub-document 2\n\tProcessing sub-document 3\n\tProcessing sub-document 4\n\tProcessing sub-document 5\n",
      "\tProcessing sub-document 6\n\tProcessing sub-document 7\n\tProcessing sub-document 8\n\tProcessing sub-document 9\n\tProcessing sub-document keys\nProcessing document /Users/nathan/Documents/Data/summarization/duc2004/13\n\tProcessing sub-document 0\n\tProcessing sub-document 1\n\tProcessing sub-document 2\n\tProcessing sub-document 3\n\tProcessing sub-document 4\n",
      "\tProcessing sub-document 5\n\tProcessing sub-document 6\n\tProcessing sub-document 7\n\tProcessing sub-document 8\n\tProcessing sub-document 9\n\tProcessing sub-document keys\nProcessing document /Users/nathan/Documents/Data/summarization/duc2004/14\n\tProcessing sub-document 0\n",
      "\tProcessing sub-document 1\n\tProcessing sub-document 2\n\tProcessing sub-document 3\n\tProcessing sub-document 4\n\tProcessing sub-document 5\n\tProcessing sub-document 6\n\tProcessing sub-document 7\n\tProcessing sub-document 8\n\tProcessing sub-document 9\n\tProcessing sub-document keys\n",
      "Processing document /Users/nathan/Documents/Data/summarization/duc2004/15\n\tProcessing sub-document 0\n\tProcessing sub-document 1\n\tProcessing sub-document 2\n\tProcessing sub-document 3\n\tProcessing sub-document 4\n\tProcessing sub-document 5\n\tProcessing sub-document 6\n\tProcessing sub-document 7\n\tProcessing sub-document 8\n",
      "\tProcessing sub-document 9\n\tProcessing sub-document keys\nProcessing document /Users/nathan/Documents/Data/summarization/duc2004/16\n\tProcessing sub-document 0\n\tProcessing sub-document 1\n\tProcessing sub-document 2\n\tProcessing sub-document 3\n\tProcessing sub-document 4\n\tProcessing sub-document 5\n\tProcessing sub-document 6\n\tProcessing sub-document 7\n\tProcessing sub-document 8\n\tProcessing sub-document 9\n\tProcessing sub-document keys\nProcessing document /Users/nathan/Documents/Data/summarization/duc2004/17\n\tProcessing sub-document 0\n\tProcessing sub-document 1\n\tProcessing sub-document 2\n\tProcessing sub-document 3\n\tProcessing sub-document 4\n\tProcessing sub-document 5\n",
      "\tProcessing sub-document 6\n\tProcessing sub-document 7\n\tProcessing sub-document 8\n\tProcessing sub-document 9\n\tProcessing sub-document keys\nProcessing document /Users/nathan/Documents/Data/summarization/duc2004/18\n\tProcessing sub-document 0\n\tProcessing sub-document 1\n\tProcessing sub-document 2\n\tProcessing sub-document 3\n\tProcessing sub-document 4\n\tProcessing sub-document 5\n\tProcessing sub-document 6\n",
      "\tProcessing sub-document 7\n\tProcessing sub-document 8\n\tProcessing sub-document 9\n\tProcessing sub-document keys\nProcessing document /Users/nathan/Documents/Data/summarization/duc2004/19\n\tProcessing sub-document 0\n\tProcessing sub-document 1\n\tProcessing sub-document 2\n\tProcessing sub-document 3\n\tProcessing sub-document 4\n\tProcessing sub-document 5\n\tProcessing sub-document 6\n\tProcessing sub-document 7\n\tProcessing sub-document 8\n\tProcessing sub-document 9\n",
      "\tProcessing sub-document keys\nProcessing document /Users/nathan/Documents/Data/summarization/duc2004/20\n\tProcessing sub-document 0\n\tProcessing sub-document 1\n\tProcessing sub-document 2\n\tProcessing sub-document 3\n\tProcessing sub-document 4\n\tProcessing sub-document 5\n\tProcessing sub-document 6\n\tProcessing sub-document 7\n\tProcessing sub-document 8\n\tProcessing sub-document 9\n\tProcessing sub-document keys\nProcessing document /Users/nathan/Documents/Data/summarization/duc2004/21\n\tProcessing sub-document 0\n",
      "\tProcessing sub-document 1\n\tProcessing sub-document 2\n\tProcessing sub-document 3\n\tProcessing sub-document 4\n\tProcessing sub-document 5\n\tProcessing sub-document 6\n\tProcessing sub-document 7\n\tProcessing sub-document 8\n\tProcessing sub-document 9\n",
      "\tProcessing sub-document keys\nProcessing document /Users/nathan/Documents/Data/summarization/duc2004/22\n\tProcessing sub-document 0\n\tProcessing sub-document 1\n\tProcessing sub-document 2\n\tProcessing sub-document 3\n\tProcessing sub-document 4\n\tProcessing sub-document 5\n\tProcessing sub-document 6\n\tProcessing sub-document 7\n\tProcessing sub-document 8\n\tProcessing sub-document 9\n",
      "\tProcessing sub-document keys\nProcessing document /Users/nathan/Documents/Data/summarization/duc2004/23\n\tProcessing sub-document 0\n\tProcessing sub-document 1\n\tProcessing sub-document 2\n\tProcessing sub-document 3\n\tProcessing sub-document 4\n\tProcessing sub-document 5\n\tProcessing sub-document 6\n\tProcessing sub-document 7\n\tProcessing sub-document 8\n\tProcessing sub-document 9\n\tProcessing sub-document keys\nProcessing document /Users/nathan/Documents/Data/summarization/duc2004/24\n\tProcessing sub-document 0\n",
      "\tProcessing sub-document 1\n\tProcessing sub-document 2\n\tProcessing sub-document 3\n\tProcessing sub-document 4\n\tProcessing sub-document 5\n\tProcessing sub-document 6\n\tProcessing sub-document 7\n\tProcessing sub-document 8\n\tProcessing sub-document 9\n\tProcessing sub-document keys\nProcessing document /Users/nathan/Documents/Data/summarization/duc2004/25\n\tProcessing sub-document 0\n\tProcessing sub-document 1\n\tProcessing sub-document 2\n\tProcessing sub-document 3\n\tProcessing sub-document 4\n\tProcessing sub-document 5\n",
      "\tProcessing sub-document 6\n\tProcessing sub-document 7\n\tProcessing sub-document 8\n\tProcessing sub-document 9\n\tProcessing sub-document keys\nProcessing document /Users/nathan/Documents/Data/summarization/duc2004/26\n\tProcessing sub-document 0\n\tProcessing sub-document 1\n\tProcessing sub-document 2\n\tProcessing sub-document 3\n\tProcessing sub-document 4\n\tProcessing sub-document 5\n\tProcessing sub-document 6\n\tProcessing sub-document 7\n\tProcessing sub-document 8\n",
      "\tProcessing sub-document 9\n\tProcessing sub-document keys\nProcessing document /Users/nathan/Documents/Data/summarization/duc2004/27\n\tProcessing sub-document 0\n\tProcessing sub-document 1\n\tProcessing sub-document 2\n\tProcessing sub-document 3\n\tProcessing sub-document 4\n\tProcessing sub-document 5\n\tProcessing sub-document 6\n",
      "\tProcessing sub-document 7\n\tProcessing sub-document 8\n\tProcessing sub-document 9\n\tProcessing sub-document keys\nProcessing document /Users/nathan/Documents/Data/summarization/duc2004/28\n\tProcessing sub-document 0\n\tProcessing sub-document 1\n\tProcessing sub-document 2\n\tProcessing sub-document 3\n",
      "\tProcessing sub-document 4\n\tProcessing sub-document 5\n\tProcessing sub-document 6\n\tProcessing sub-document 7\n\tProcessing sub-document 8\n",
      "\tProcessing sub-document 9\n\tProcessing sub-document keys\nProcessing document /Users/nathan/Documents/Data/summarization/duc2004/29\n\tProcessing sub-document 0\n\tProcessing sub-document 1\n\tProcessing sub-document 2\n\tProcessing sub-document 3\n\tProcessing sub-document 4\n\tProcessing sub-document 5\n\tProcessing sub-document 6\n\tProcessing sub-document 7\n\tProcessing sub-document 8\n\tProcessing sub-document 9\n",
      "\tProcessing sub-document keys\nProcessing document /Users/nathan/Documents/Data/summarization/duc2004/30\n\tProcessing sub-document 0\n\tProcessing sub-document 1\n\tProcessing sub-document 2\n\tProcessing sub-document 3\n\tProcessing sub-document 4\n\tProcessing sub-document 5\n\tProcessing sub-document 6\n\tProcessing sub-document 7\n\tProcessing sub-document 8\n\tProcessing sub-document 9\n",
      "\tProcessing sub-document keys\nProcessing document /Users/nathan/Documents/Data/summarization/duc2004/31\n\tProcessing sub-document 0\n\tProcessing sub-document 1\n\tProcessing sub-document 2\n\tProcessing sub-document 3\n\tProcessing sub-document 4\n\tProcessing sub-document 5\n\tProcessing sub-document 6\n\tProcessing sub-document 7\n\tProcessing sub-document 8\n",
      "\tProcessing sub-document 9\n\tProcessing sub-document keys\nProcessing document /Users/nathan/Documents/Data/summarization/duc2004/32\n\tProcessing sub-document 0\n\tProcessing sub-document 1\n\tProcessing sub-document 2\n\tProcessing sub-document 3\n\tProcessing sub-document 4\n\tProcessing sub-document 5\n\tProcessing sub-document 6\n\tProcessing sub-document 7\n",
      "\tProcessing sub-document 8\n\tProcessing sub-document 9\n\tProcessing sub-document keys\nProcessing document /Users/nathan/Documents/Data/summarization/duc2004/33\n\tProcessing sub-document 0\n\tProcessing sub-document 1\n\tProcessing sub-document 2\n\tProcessing sub-document 3\n\tProcessing sub-document 4\n\tProcessing sub-document 5\n\tProcessing sub-document 6\n\tProcessing sub-document 7\n\tProcessing sub-document 8\n",
      "\tProcessing sub-document 9\n\tProcessing sub-document keys\nProcessing document /Users/nathan/Documents/Data/summarization/duc2004/34\n\tProcessing sub-document 0\n\tProcessing sub-document 1\n\tProcessing sub-document 2\n\tProcessing sub-document 3\n\tProcessing sub-document 4\n\tProcessing sub-document 5\n\tProcessing sub-document 6\n\tProcessing sub-document 7\n\tProcessing sub-document 8\n\tProcessing sub-document 9\n",
      "\tProcessing sub-document keys\nProcessing document /Users/nathan/Documents/Data/summarization/duc2004/35\n\tProcessing sub-document 0\n\tProcessing sub-document 1\n\tProcessing sub-document 2\n\tProcessing sub-document 3\n\tProcessing sub-document 4\n\tProcessing sub-document 5\n\tProcessing sub-document 6\n\tProcessing sub-document 7\n\tProcessing sub-document 8\n\tProcessing sub-document 9\n\tProcessing sub-document keys\nProcessing document /Users/nathan/Documents/Data/summarization/duc2004/36\n\tProcessing sub-document 0\n\tProcessing sub-document 1\n\tProcessing sub-document 2\n\tProcessing sub-document 3\n\tProcessing sub-document 4\n",
      "\tProcessing sub-document 5\n\tProcessing sub-document 6\n\tProcessing sub-document 7\n\tProcessing sub-document 8\n\tProcessing sub-document 9\n\tProcessing sub-document keys\nProcessing document /Users/nathan/Documents/Data/summarization/duc2004/37\n\tProcessing sub-document 0\n\tProcessing sub-document 1\n\tProcessing sub-document 2\n\tProcessing sub-document 3\n\tProcessing sub-document 4\n\tProcessing sub-document 5\n\tProcessing sub-document 6\n\tProcessing sub-document 7\n",
      "\tProcessing sub-document 8\n\tProcessing sub-document 9\n\tProcessing sub-document keys\nProcessing document /Users/nathan/Documents/Data/summarization/duc2004/38\n\tProcessing sub-document 0\n\tProcessing sub-document 1\n\tProcessing sub-document 2\n\tProcessing sub-document 3\n\tProcessing sub-document 4\n\tProcessing sub-document 5\n\tProcessing sub-document 6\n\tProcessing sub-document 7\n\tProcessing sub-document 8\n\tProcessing sub-document 9\n",
      "\tProcessing sub-document keys\nProcessing document /Users/nathan/Documents/Data/summarization/duc2004/39\n\tProcessing sub-document 0\n\tProcessing sub-document 1\n\tProcessing sub-document 2\n\tProcessing sub-document 3\n\tProcessing sub-document 4\n\tProcessing sub-document 5\n\tProcessing sub-document 6\n",
      "\tProcessing sub-document 7\n\tProcessing sub-document 8\n\tProcessing sub-document 9\n\tProcessing sub-document keys\nProcessing document /Users/nathan/Documents/Data/summarization/duc2004/40\n\tProcessing sub-document 0\n\tProcessing sub-document 1\n\tProcessing sub-document 2\n\tProcessing sub-document 3\n\tProcessing sub-document 4\n\tProcessing sub-document 5\n\tProcessing sub-document 6\n\tProcessing sub-document 7\n\tProcessing sub-document 8\n",
      "\tProcessing sub-document 9\n\tProcessing sub-document keys\nProcessing document /Users/nathan/Documents/Data/summarization/duc2004/41\n\tProcessing sub-document 0\n\tProcessing sub-document 1\n\tProcessing sub-document 2\n\tProcessing sub-document 3\n\tProcessing sub-document 4\n\tProcessing sub-document 5\n",
      "\tProcessing sub-document 6\n\tProcessing sub-document 7\n\tProcessing sub-document 8\n\tProcessing sub-document 9\n\tProcessing sub-document keys\nProcessing document /Users/nathan/Documents/Data/summarization/duc2004/42\n\tProcessing sub-document 0\n\tProcessing sub-document 1\n",
      "\tProcessing sub-document 2\n\tProcessing sub-document 3\n\tProcessing sub-document 4\n\tProcessing sub-document 5\n\tProcessing sub-document 6\n\tProcessing sub-document 7\n\tProcessing sub-document 8\n\tProcessing sub-document 9\n\tProcessing sub-document keys\nProcessing document /Users/nathan/Documents/Data/summarization/duc2004/43\n\tProcessing sub-document 0\n",
      "\tProcessing sub-document 1\n\tProcessing sub-document 2\n\tProcessing sub-document 3\n\tProcessing sub-document 4\n\tProcessing sub-document 5\n\tProcessing sub-document 6\n\tProcessing sub-document 7\n\tProcessing sub-document 8\n\tProcessing sub-document 9\n\tProcessing sub-document keys\nProcessing document /Users/nathan/Documents/Data/summarization/duc2004/44\n\tProcessing sub-document 0\n",
      "\tProcessing sub-document 1\n\tProcessing sub-document 2\n\tProcessing sub-document 3\n\tProcessing sub-document 4\n\tProcessing sub-document 5\n\tProcessing sub-document 6\n\tProcessing sub-document 7\n\tProcessing sub-document 8\n\tProcessing sub-document 9\n",
      "\tProcessing sub-document keys\nProcessing document /Users/nathan/Documents/Data/summarization/duc2004/45\n\tProcessing sub-document 0\n\tProcessing sub-document 1\n\tProcessing sub-document 2\n\tProcessing sub-document 3\n\tProcessing sub-document 4\n\tProcessing sub-document 5\n\tProcessing sub-document 6\n\tProcessing sub-document 7\n\tProcessing sub-document 8\n\tProcessing sub-document 9\n\tProcessing sub-document keys\nProcessing document /Users/nathan/Documents/Data/summarization/duc2004/46\n\tProcessing sub-document 0\n",
      "\tProcessing sub-document 1\n\tProcessing sub-document 2\n\tProcessing sub-document 3\n\tProcessing sub-document 4\n\tProcessing sub-document 5\n\tProcessing sub-document 6\n\tProcessing sub-document 7\n",
      "\tProcessing sub-document 8\n\tProcessing sub-document 9\n\tProcessing sub-document keys\nProcessing document /Users/nathan/Documents/Data/summarization/duc2004/47\n\tProcessing sub-document 0\n\tProcessing sub-document 1\n\tProcessing sub-document 2\n\tProcessing sub-document 3\n\tProcessing sub-document 4\n\tProcessing sub-document 5\n\tProcessing sub-document 6\n\tProcessing sub-document 7\n\tProcessing sub-document 8\n\tProcessing sub-document 9\n\tProcessing sub-document keys\nProcessing document /Users/nathan/Documents/Data/summarization/duc2004/48\n\tProcessing sub-document 0\n\tProcessing sub-document 1\n\tProcessing sub-document 2\n",
      "\tProcessing sub-document 3\n\tProcessing sub-document 4\n\tProcessing sub-document 5\n\tProcessing sub-document 6\n\tProcessing sub-document 7\n\tProcessing sub-document 8\n\tProcessing sub-document 9\n\tProcessing sub-document keys\nProcessing document /Users/nathan/Documents/Data/summarization/duc2004/49\n\tProcessing sub-document 0\n\tProcessing sub-document 1\n\tProcessing sub-document 2\n\tProcessing sub-document 3\n\tProcessing sub-document 4\n\tProcessing sub-document 5\n\tProcessing sub-document 6\n",
      "\tProcessing sub-document 7\n\tProcessing sub-document 8\n\tProcessing sub-document 9\n\tProcessing sub-document keys\n"
     ],
     "output_type": "stream"
    }
   ],
   "source": [
    "pre = Preprocessor(\"/Users/nathan/Documents/Data/summarization/duc2004/duc2004.filelist\")\n",
    "pre.run()"
   ],
   "metadata": {
    "collapsed": false,
    "pycharm": {
     "name": "#%%\n",
     "is_executing": false
    }
   }
  },
  {
   "cell_type": "markdown",
   "source": [
    "Now we can run the tests"
   ],
   "metadata": {
    "collapsed": false
   }
  },
  {
   "cell_type": "code",
   "execution_count": 1,
   "outputs": [
    {
     "traceback": [
      "\u001b[0;31m---------------------------------------------------------------------------\u001b[0m",
      "\u001b[0;31mNameError\u001b[0m                                 Traceback (most recent call last)",
      "\u001b[0;32m<ipython-input-1-50f3bb73a9b4>\u001b[0m in \u001b[0;36m<module>\u001b[0;34m\u001b[0m\n\u001b[0;32m----> 1\u001b[0;31m \u001b[0mfreqSum\u001b[0m\u001b[0;34m.\u001b[0m\u001b[0mtest_dir\u001b[0m \u001b[0;34m=\u001b[0m \u001b[0;34m\"/Users/nathan/Documents/Data/summarization/duc2004\"\u001b[0m\u001b[0;34m\u001b[0m\u001b[0;34m\u001b[0m\u001b[0m\n\u001b[0m\u001b[1;32m      2\u001b[0m freqSum.test_docs = [ \"0\", \"1\", \"10\", \"11\", \"12\", \"13\", \"14\", \"15\", \"16\", \"17\", \n\u001b[1;32m      3\u001b[0m                       \u001b[0;34m\"18\"\u001b[0m\u001b[0;34m,\u001b[0m \u001b[0;34m\"19\"\u001b[0m\u001b[0;34m,\u001b[0m \u001b[0;34m\"2\"\u001b[0m\u001b[0;34m,\u001b[0m \u001b[0;34m\"20\"\u001b[0m\u001b[0;34m,\u001b[0m \u001b[0;34m\"21\"\u001b[0m\u001b[0;34m,\u001b[0m \u001b[0;34m\"22\"\u001b[0m\u001b[0;34m,\u001b[0m \u001b[0;34m\"23\"\u001b[0m\u001b[0;34m,\u001b[0m \u001b[0;34m\"24\"\u001b[0m\u001b[0;34m,\u001b[0m \u001b[0;34m\"25\"\u001b[0m\u001b[0;34m,\u001b[0m \u001b[0;34m\"26\"\u001b[0m\u001b[0;34m,\u001b[0m\u001b[0;34m\u001b[0m\u001b[0;34m\u001b[0m\u001b[0m\n\u001b[1;32m      4\u001b[0m                       \u001b[0;34m\"27\"\u001b[0m\u001b[0;34m,\u001b[0m \u001b[0;34m\"28\"\u001b[0m\u001b[0;34m,\u001b[0m \u001b[0;34m\"29\"\u001b[0m\u001b[0;34m,\u001b[0m \u001b[0;34m\"3\"\u001b[0m\u001b[0;34m,\u001b[0m \u001b[0;34m\"30\"\u001b[0m\u001b[0;34m,\u001b[0m \u001b[0;34m\"31\"\u001b[0m\u001b[0;34m,\u001b[0m \u001b[0;34m\"32\"\u001b[0m\u001b[0;34m,\u001b[0m \u001b[0;34m\"33\"\u001b[0m\u001b[0;34m,\u001b[0m \u001b[0;34m\"34\"\u001b[0m\u001b[0;34m,\u001b[0m \u001b[0;34m\"35\"\u001b[0m\u001b[0;34m,\u001b[0m\u001b[0;34m\u001b[0m\u001b[0;34m\u001b[0m\u001b[0m\n\u001b[1;32m      5\u001b[0m                       \u001b[0;34m\"36\"\u001b[0m\u001b[0;34m,\u001b[0m \u001b[0;34m\"37\"\u001b[0m\u001b[0;34m,\u001b[0m \u001b[0;34m\"38\"\u001b[0m\u001b[0;34m,\u001b[0m \u001b[0;34m\"39\"\u001b[0m\u001b[0;34m,\u001b[0m \u001b[0;34m\"4\"\u001b[0m\u001b[0;34m,\u001b[0m \u001b[0;34m\"40\"\u001b[0m\u001b[0;34m,\u001b[0m \u001b[0;34m\"41\"\u001b[0m\u001b[0;34m,\u001b[0m \u001b[0;34m\"42\"\u001b[0m\u001b[0;34m,\u001b[0m \u001b[0;34m\"43\"\u001b[0m\u001b[0;34m,\u001b[0m \u001b[0;34m\"44\"\u001b[0m\u001b[0;34m,\u001b[0m\u001b[0;34m\u001b[0m\u001b[0;34m\u001b[0m\u001b[0m\n",
      "\u001b[0;31mNameError\u001b[0m: name 'freqSum' is not defined"
     ],
     "ename": "NameError",
     "evalue": "name 'freqSum' is not defined",
     "output_type": "error"
    }
   ],
   "source": [
    "freqSum.test_dir = \"/Users/nathan/Documents/Data/summarization/duc2004\"\n",
    "freqSum.test_docs = [ \"0\", \"1\", \"10\", \"11\", \"12\", \"13\", \"14\", \"15\", \"16\", \"17\", \n",
    "                      \"18\", \"19\", \"2\", \"20\", \"21\", \"22\", \"23\", \"24\", \"25\", \"26\",\n",
    "                      \"27\", \"28\", \"29\", \"3\", \"30\", \"31\", \"32\", \"33\", \"34\", \"35\",\n",
    "                      \"36\", \"37\", \"38\", \"39\", \"4\", \"40\", \"41\", \"42\", \"43\", \"44\",\n",
    "                      \"45\", \"46\", \"47\", \"48\", \"49\", \"5\", \"6\", \"7\", \"8\", \"9\"]\n",
    "summaries = freqSum.predict()\n",
    "scores = freqSum.score(summaries)\n",
    "print(scores)"
   ],
   "metadata": {
    "collapsed": false,
    "pycharm": {
     "name": "#%%\n",
     "is_executing": false
    }
   }
  },
  {
   "cell_type": "markdown",
   "source": [
    "\n",
    "### RegSum"
   ],
   "metadata": {
    "collapsed": false
   }
  },
  {
   "cell_type": "code",
   "execution_count": 7,
   "outputs": [
    {
     "name": "stdout",
     "text": [
      "Training on documents: \n/Users/nathan/Documents/Data/summarization/duc2003/0\n/Users/nathan/Documents/Data/summarization/duc2003/1\n/Users/nathan/Documents/Data/summarization/duc2003/10\n/Users/nathan/Documents/Data/summarization/duc2003/11\n",
      "/Users/nathan/Documents/Data/summarization/duc2003/12\n/Users/nathan/Documents/Data/summarization/duc2003/13\n/Users/nathan/Documents/Data/summarization/duc2003/14\n/Users/nathan/Documents/Data/summarization/duc2003/15\n",
      "/Users/nathan/Documents/Data/summarization/duc2003/16\n/Users/nathan/Documents/Data/summarization/duc2003/17\n/Users/nathan/Documents/Data/summarization/duc2003/18\n/Users/nathan/Documents/Data/summarization/duc2003/19\n/Users/nathan/Documents/Data/summarization/duc2003/2\n",
      "/Users/nathan/Documents/Data/summarization/duc2003/20\n/Users/nathan/Documents/Data/summarization/duc2003/21\n/Users/nathan/Documents/Data/summarization/duc2003/22\n/Users/nathan/Documents/Data/summarization/duc2003/23\n/Users/nathan/Documents/Data/summarization/duc2003/24\n",
      "/Users/nathan/Documents/Data/summarization/duc2003/25\n/Users/nathan/Documents/Data/summarization/duc2003/26\n/Users/nathan/Documents/Data/summarization/duc2003/27\n/Users/nathan/Documents/Data/summarization/duc2003/28\n",
      "/Users/nathan/Documents/Data/summarization/duc2003/29\n/Users/nathan/Documents/Data/summarization/duc2003/3\n/Users/nathan/Documents/Data/summarization/duc2003/30\n",
      "/Users/nathan/Documents/Data/summarization/duc2003/31\n/Users/nathan/Documents/Data/summarization/duc2003/32\n/Users/nathan/Documents/Data/summarization/duc2003/33\n/Users/nathan/Documents/Data/summarization/duc2003/34\n/Users/nathan/Documents/Data/summarization/duc2003/35\n",
      "/Users/nathan/Documents/Data/summarization/duc2003/36\n/Users/nathan/Documents/Data/summarization/duc2003/37\n/Users/nathan/Documents/Data/summarization/duc2003/38\n/Users/nathan/Documents/Data/summarization/duc2003/39\n/Users/nathan/Documents/Data/summarization/duc2003/4\n",
      "/Users/nathan/Documents/Data/summarization/duc2003/40\n/Users/nathan/Documents/Data/summarization/duc2003/41\n/Users/nathan/Documents/Data/summarization/duc2003/42\n/Users/nathan/Documents/Data/summarization/duc2003/43\n",
      "/Users/nathan/Documents/Data/summarization/duc2003/44\n/Users/nathan/Documents/Data/summarization/duc2003/45\n/Users/nathan/Documents/Data/summarization/duc2003/46\n/Users/nathan/Documents/Data/summarization/duc2003/47\n",
      "/Users/nathan/Documents/Data/summarization/duc2003/48\n/Users/nathan/Documents/Data/summarization/duc2003/49\n/Users/nathan/Documents/Data/summarization/duc2003/5\n/Users/nathan/Documents/Data/summarization/duc2003/50\n/Users/nathan/Documents/Data/summarization/duc2003/51\n/Users/nathan/Documents/Data/summarization/duc2003/52\n",
      "/Users/nathan/Documents/Data/summarization/duc2003/53\n/Users/nathan/Documents/Data/summarization/duc2003/54\n/Users/nathan/Documents/Data/summarization/duc2003/55\n/Users/nathan/Documents/Data/summarization/duc2003/56\n",
      "/Users/nathan/Documents/Data/summarization/duc2003/57\n/Users/nathan/Documents/Data/summarization/duc2003/58\n/Users/nathan/Documents/Data/summarization/duc2003/59\n/Users/nathan/Documents/Data/summarization/duc2003/6\n",
      "/Users/nathan/Documents/Data/summarization/duc2003/7\n/Users/nathan/Documents/Data/summarization/duc2003/8\n/Users/nathan/Documents/Data/summarization/duc2003/9\n",
      "Document: 0...\n\tSentence 1/29...\n\tSentence 2/29...\n\tSentence 3/29...\n\tSentence 4/29...\n\tSentence 5/29...\n\tSentence 6/29...\n\tSentence 7/29...\n\tSentence 8/29...\n\tSentence 9/29...\n\tSentence 10/29...\n\tSentence 11/29...\n\tSentence 12/29...\n\tSentence 13/29...\n\tSentence 14/29...\n\tSentence 15/29...\n\tSentence 16/29...\n\tSentence 17/29...\n\tSentence 18/29...\n\tSentence 19/29...\n\tSentence 20/29...\n\tSentence 21/29...\n\tSentence 22/29...\n\tSentence 23/29...\n\tSentence 24/29...\n\tSentence 25/29...\n\tSentence 26/29...\n\tSentence 27/29...\n\tSentence 28/29...\n\tSentence 29/29...\n\tSentence 1/29...\n\tSentence 2/29...\n\tSentence 3/29...\n\tSentence 4/29...\n\tSentence 5/29...\n\tSentence 6/29...\n\tSentence 7/29...\n\tSentence 8/29...\n\tSentence 9/29...\n\tSentence 10/29...\n\tSentence 11/29...\n\tSentence 12/29...\n\tSentence 13/29...\n",
      "\tSentence 14/29...\n\tSentence 15/29...\n\tSentence 16/29...\n\tSentence 17/29...\n\tSentence 18/29...\n\tSentence 19/29...\n\tSentence 20/29...\n\tSentence 21/29...\n\tSentence 22/29...\n\tSentence 23/29...\n\tSentence 24/29...\n\tSentence 25/29...\n\tSentence 26/29...\n\tSentence 27/29...\n\tSentence 28/29...\n\tSentence 29/29...\n\tSentence 1/25...\n\tSentence 2/25...\n\tSentence 3/25...\n\tSentence 4/25...\n\tSentence 5/25...\n\tSentence 6/25...\n\tSentence 7/25...\n\tSentence 8/25...\n\tSentence 9/25...\n\tSentence 10/25...\n",
      "\tSentence 11/25...\n\tSentence 12/25...\n\tSentence 13/25...\n\tSentence 14/25...\n\tSentence 15/25...\n\tSentence 16/25...\n\tSentence 17/25...\n\tSentence 18/25...\n\tSentence 19/25...\n\tSentence 20/25...\n\tSentence 21/25...\n\tSentence 22/25...\n\tSentence 23/25...\n\tSentence 24/25...\n\tSentence 25/25...\n\tSentence 1/12...\n\tSentence 2/12...\n\tSentence 3/12...\n\tSentence 4/12...\n\tSentence 5/12...\n",
      "\tSentence 6/12...\n\tSentence 7/12...\n\tSentence 8/12...\n\tSentence 9/12...\n\tSentence 10/12...\n\tSentence 11/12...\n\tSentence 12/12...\n\tSentence 1/22...\n\tSentence 2/22...\n\tSentence 3/22...\n\tSentence 4/22...\n\tSentence 5/22...\n\tSentence 6/22...\n\tSentence 7/22...\n\tSentence 8/22...\n\tSentence 9/22...\n\tSentence 10/22...\n\tSentence 11/22...\n\tSentence 12/22...\n\tSentence 13/22...\n\tSentence 14/22...\n\tSentence 15/22...\n\tSentence 16/22...\n\tSentence 17/22...\n\tSentence 18/22...\n\tSentence 19/22...\n\tSentence 20/22...\n\tSentence 21/22...\n",
      "\tSentence 22/22...\n\tSentence 1/37...\n\tSentence 2/37...\n\tSentence 3/37...\n\tSentence 4/37...\n\tSentence 5/37...\n\tSentence 6/37...\n\tSentence 7/37...\n\tSentence 8/37...\n\tSentence 9/37...\n\tSentence 10/37...\n\tSentence 11/37...\n",
      "\tSentence 12/37...\n\tSentence 13/37...\n\tSentence 14/37...\n\tSentence 15/37...\n\tSentence 16/37...\n\tSentence 17/37...\n\tSentence 18/37...\n\tSentence 19/37...\n\tSentence 20/37...\n\tSentence 21/37...\n\tSentence 22/37...\n\tSentence 23/37...\n\tSentence 24/37...\n\tSentence 25/37...\n\tSentence 26/37...\n\tSentence 27/37...\n\tSentence 28/37...\n\tSentence 29/37...\n\tSentence 30/37...\n\tSentence 31/37...\n\tSentence 32/37...\n\tSentence 33/37...\n\tSentence 34/37...\n\tSentence 35/37...\n\tSentence 36/37...\n\tSentence 37/37...\n\tSentence 1/49...\n",
      "\tSentence 2/49...\n\tSentence 3/49...\n\tSentence 4/49...\n\tSentence 5/49...\n\tSentence 6/49...\n\tSentence 7/49...\n\tSentence 8/49...\n\tSentence 9/49...\n\tSentence 10/49...\n\tSentence 11/49...\n\tSentence 12/49...\n",
      "\tSentence 13/49...\n\tSentence 14/49...\n\tSentence 15/49...\n\tSentence 16/49...\n\tSentence 17/49...\n\tSentence 18/49...\n\tSentence 19/49...\n\tSentence 20/49...\n\tSentence 21/49...\n\tSentence 22/49...\n\tSentence 23/49...\n\tSentence 24/49...\n\tSentence 25/49...\n\tSentence 26/49...\n\tSentence 27/49...\n\tSentence 28/49...\n\tSentence 29/49...\n\tSentence 30/49...\n\tSentence 31/49...\n\tSentence 32/49...\n\tSentence 33/49...\n\tSentence 34/49...\n",
      "\tSentence 35/49...\n\tSentence 36/49...\n\tSentence 37/49...\n\tSentence 38/49...\n\tSentence 39/49...\n\tSentence 40/49...\n\tSentence 41/49...\n\tSentence 42/49...\n\tSentence 43/49...\n\tSentence 44/49...\n\tSentence 45/49...\n\tSentence 46/49...\n\tSentence 47/49...\n\tSentence 48/49...\n\tSentence 49/49...\n\tSentence 1/17...\n\tSentence 2/17...\n\tSentence 3/17...\n\tSentence 4/17...\n\tSentence 5/17...\n\tSentence 6/17...\n\tSentence 7/17...\n",
      "\tSentence 8/17...\n\tSentence 9/17...\n\tSentence 10/17...\n\tSentence 11/17...\n\tSentence 12/17...\n\tSentence 13/17...\n\tSentence 14/17...\n\tSentence 15/17...\n\tSentence 16/17...\n\tSentence 17/17...\n\tSentence 1/29...\n\tSentence 2/29...\n\tSentence 3/29...\n\tSentence 4/29...\n\tSentence 5/29...\n\tSentence 6/29...\n\tSentence 7/29...\n\tSentence 8/29...\n\tSentence 9/29...\n\tSentence 10/29...\n\tSentence 11/29...\n\tSentence 12/29...\n\tSentence 13/29...\n",
      "\tSentence 14/29...\n\tSentence 15/29...\n\tSentence 16/29...\n\tSentence 17/29...\n\tSentence 18/29...\n\tSentence 19/29...\n\tSentence 20/29...\n\tSentence 21/29...\n\tSentence 22/29...\n\tSentence 23/29...\n\tSentence 24/29...\n\tSentence 25/29...\n\tSentence 26/29...\n\tSentence 27/29...\n\tSentence 28/29...\n",
      "\tSentence 29/29...\n\tSentence 1/24...\n\tSentence 2/24...\n\tSentence 3/24...\n\tSentence 4/24...\n\tSentence 5/24...\n\tSentence 6/24...\n\tSentence 7/24...\n\tSentence 8/24...\n\tSentence 9/24...\n\tSentence 10/24...\n\tSentence 11/24...\n\tSentence 12/24...\n\tSentence 13/24...\n\tSentence 14/24...\n\tSentence 15/24...\n\tSentence 16/24...\n\tSentence 17/24...\n\tSentence 18/24...\n\tSentence 19/24...\n\tSentence 20/24...\n\tSentence 21/24...\n\tSentence 22/24...\n\tSentence 23/24...\n\tSentence 24/24...\n\tSentence 1/22...\n\tSentence 2/22...\n\tSentence 3/22...\n\tSentence 4/22...\n\tSentence 5/22...\n\tSentence 6/22...\n",
      "\tSentence 7/22...\n\tSentence 8/22...\n\tSentence 9/22...\n\tSentence 10/22...\n\tSentence 11/22...\n\tSentence 12/22...\n\tSentence 13/22...\n\tSentence 14/22...\n\tSentence 15/22...\n\tSentence 16/22...\n\tSentence 17/22...\n\tSentence 18/22...\n\tSentence 19/22...\n\tSentence 20/22...\n\tSentence 21/22...\n\tSentence 22/22...\n\tSentence 1/67...\n",
      "\tSentence 2/67...\n\tSentence 3/67...\n\tSentence 4/67...\n\tSentence 5/67...\n\tSentence 6/67...\n\tSentence 7/67...\n\tSentence 8/67...\n\tSentence 9/67...\n\tSentence 10/67...\n\tSentence 11/67...\n\tSentence 12/67...\n\tSentence 13/67...\n\tSentence 14/67...\n\tSentence 15/67...\n\tSentence 16/67...\n\tSentence 17/67...\n\tSentence 18/67...\n",
      "\tSentence 19/67...\n\tSentence 20/67...\n\tSentence 21/67...\n\tSentence 22/67...\n\tSentence 23/67...\n\tSentence 24/67...\n\tSentence 25/67...\n\tSentence 26/67...\n\tSentence 27/67...\n\tSentence 28/67...\n\tSentence 29/67...\n\tSentence 30/67...\n\tSentence 31/67...\n\tSentence 32/67...\n\tSentence 33/67...\n\tSentence 34/67...\n",
      "\tSentence 35/67...\n\tSentence 36/67...\n\tSentence 37/67...\n\tSentence 38/67...\n\tSentence 39/67...\n\tSentence 40/67...\n\tSentence 41/67...\n\tSentence 42/67...\n\tSentence 43/67...\n\tSentence 44/67...\n\tSentence 45/67...\n\tSentence 46/67...\n\tSentence 47/67...\n\tSentence 48/67...\n\tSentence 49/67...\n\tSentence 50/67...\n\tSentence 51/67...\n\tSentence 52/67...\n\tSentence 53/67...\n\tSentence 54/67...\n\tSentence 55/67...\n",
      "\tSentence 56/67...\n\tSentence 57/67...\n\tSentence 58/67...\n\tSentence 59/67...\n\tSentence 60/67...\n\tSentence 61/67...\n\tSentence 62/67...\n\tSentence 63/67...\n\tSentence 64/67...\n\tSentence 65/67...\n\tSentence 66/67...\n\tSentence 67/67...\nDocument: 1...\n\tSentence 1/15...\n\tSentence 2/15...\n\tSentence 3/15...\n\tSentence 4/15...\n",
      "\tSentence 5/15...\n\tSentence 6/15...\n\tSentence 7/15...\n\tSentence 8/15...\n\tSentence 9/15...\n\tSentence 10/15...\n\tSentence 11/15...\n\tSentence 12/15...\n\tSentence 13/15...\n\tSentence 14/15...\n\tSentence 15/15...\n\tSentence 1/33...\n\tSentence 2/33...\n\tSentence 3/33...\n\tSentence 4/33...\n\tSentence 5/33...\n\tSentence 6/33...\n\tSentence 7/33...\n\tSentence 8/33...\n\tSentence 9/33...\n\tSentence 10/33...\n\tSentence 11/33...\n\tSentence 12/33...\n\tSentence 13/33...\n\tSentence 14/33...\n\tSentence 15/33...\n\tSentence 16/33...\n",
      "\tSentence 17/33...\n\tSentence 18/33...\n\tSentence 19/33...\n\tSentence 20/33...\n\tSentence 21/33...\n\tSentence 22/33...\n\tSentence 23/33...\n\tSentence 24/33...\n\tSentence 25/33...\n\tSentence 26/33...\n\tSentence 27/33...\n\tSentence 28/33...\n\tSentence 29/33...\n\tSentence 30/33...\n\tSentence 31/33...\n\tSentence 32/33...\n\tSentence 33/33...\n\tSentence 1/9...\n",
      "\tSentence 2/9...\n\tSentence 3/9...\n\tSentence 4/9...\n\tSentence 5/9...\n\tSentence 6/9...\n\tSentence 7/9...\n\tSentence 8/9...\n\tSentence 9/9...\n\tSentence 1/27...\n\tSentence 2/27...\n\tSentence 3/27...\n\tSentence 4/27...\n\tSentence 5/27...\n\tSentence 6/27...\n\tSentence 7/27...\n\tSentence 8/27...\n\tSentence 9/27...\n\tSentence 10/27...\n\tSentence 11/27...\n\tSentence 12/27...\n\tSentence 13/27...\n\tSentence 14/27...\n\tSentence 15/27...\n\tSentence 16/27...\n\tSentence 17/27...\n",
      "\tSentence 18/27...\n\tSentence 19/27...\n\tSentence 20/27...\n\tSentence 21/27...\n\tSentence 22/27...\n\tSentence 23/27...\n\tSentence 24/27...\n\tSentence 25/27...\n\tSentence 26/27...\n\tSentence 27/27...\n\tSentence 1/16...\n\tSentence 2/16...\n\tSentence 3/16...\n\tSentence 4/16...\n",
      "\tSentence 5/16...\n\tSentence 6/16...\n\tSentence 7/16...\n\tSentence 8/16...\n\tSentence 9/16...\n\tSentence 10/16...\n\tSentence 11/16...\n\tSentence 12/16...\n\tSentence 13/16...\n\tSentence 14/16...\n\tSentence 15/16...\n\tSentence 16/16...\n\tSentence 1/19...\n\tSentence 2/19...\n\tSentence 3/19...\n\tSentence 4/19...\n\tSentence 5/19...\n\tSentence 6/19...\n\tSentence 7/19...\n\tSentence 8/19...\n\tSentence 9/19...\n",
      "\tSentence 10/19...\n\tSentence 11/19...\n\tSentence 12/19...\n\tSentence 13/19...\n\tSentence 14/19...\n\tSentence 15/19...\n\tSentence 16/19...\n\tSentence 17/19...\n\tSentence 18/19...\n\tSentence 19/19...\n\tSentence 1/14...\n\tSentence 2/14...\n\tSentence 3/14...\n\tSentence 4/14...\n\tSentence 5/14...\n\tSentence 6/14...\n",
      "\tSentence 7/14...\n\tSentence 8/14...\n\tSentence 9/14...\n\tSentence 10/14...\n\tSentence 11/14...\n\tSentence 12/14...\n\tSentence 13/14...\n\tSentence 14/14...\n\tSentence 1/9...\n\tSentence 2/9...\n\tSentence 3/9...\n\tSentence 4/9...\n\tSentence 5/9...\n\tSentence 6/9...\n\tSentence 7/9...\n",
      "\tSentence 8/9...\n\tSentence 9/9...\n\tSentence 1/14...\n\tSentence 2/14...\n\tSentence 3/14...\n\tSentence 4/14...\n\tSentence 5/14...\n\tSentence 6/14...\n\tSentence 7/14...\n\tSentence 8/14...\n\tSentence 9/14...\n\tSentence 10/14...\n\tSentence 11/14...\n\tSentence 12/14...\n",
      "\tSentence 13/14...\n\tSentence 14/14...\n\tSentence 1/17...\n\tSentence 2/17...\n\tSentence 3/17...\n\tSentence 4/17...\n\tSentence 5/17...\n\tSentence 6/17...\n\tSentence 7/17...\n\tSentence 8/17...\n\tSentence 9/17...\n\tSentence 10/17...\n\tSentence 11/17...\n\tSentence 12/17...\n\tSentence 13/17...\n\tSentence 14/17...\n\tSentence 15/17...\n\tSentence 16/17...\n\tSentence 17/17...\n",
      "\tSentence 1/7...\n\tSentence 2/7...\n\tSentence 3/7...\n\tSentence 4/7...\n\tSentence 5/7...\n\tSentence 6/7...\n\tSentence 7/7...\nDocument: 10...\n\tSentence 1/10...\n\tSentence 2/10...\n\tSentence 3/10...\n\tSentence 4/10...\n\tSentence 5/10...\n\tSentence 6/10...\n",
      "\tSentence 7/10...\n\tSentence 8/10...\n\tSentence 9/10...\n\tSentence 10/10...\n\tSentence 1/30...\n\tSentence 2/30...\n\tSentence 3/30...\n\tSentence 4/30...\n\tSentence 5/30...\n\tSentence 6/30...\n\tSentence 7/30...\n\tSentence 8/30...\n\tSentence 9/30...\n\tSentence 10/30...\n\tSentence 11/30...\n\tSentence 12/30...\n\tSentence 13/30...\n\tSentence 14/30...\n\tSentence 15/30...\n\tSentence 16/30...\n\tSentence 17/30...\n\tSentence 18/30...\n\tSentence 19/30...\n\tSentence 20/30...\n\tSentence 21/30...\n\tSentence 22/30...\n",
      "\tSentence 23/30...\n\tSentence 24/30...\n\tSentence 25/30...\n\tSentence 26/30...\n\tSentence 27/30...\n\tSentence 28/30...\n\tSentence 29/30...\n\tSentence 30/30...\n\tSentence 1/24...\n\tSentence 2/24...\n\tSentence 3/24...\n\tSentence 4/24...\n\tSentence 5/24...\n\tSentence 6/24...\n\tSentence 7/24...\n\tSentence 8/24...\n\tSentence 9/24...\n\tSentence 10/24...\n\tSentence 11/24...\n\tSentence 12/24...\n"
     ],
     "output_type": "stream"
    },
    {
     "traceback": [
      "\u001b[0;31m---------------------------------------------------------------------------\u001b[0m",
      "\u001b[0;31mKeyboardInterrupt\u001b[0m                         Traceback (most recent call last)",
      "\u001b[0;32m<ipython-input-7-470678a4f512>\u001b[0m in \u001b[0;36m<module>\u001b[0;34m\u001b[0m\n\u001b[1;32m      4\u001b[0m \u001b[0mrs\u001b[0m\u001b[0;34m.\u001b[0m\u001b[0mtraining_dir\u001b[0m \u001b[0;34m=\u001b[0m \u001b[0mfreqSum\u001b[0m\u001b[0;34m.\u001b[0m\u001b[0mtraining_dir\u001b[0m\u001b[0;34m\u001b[0m\u001b[0;34m\u001b[0m\u001b[0m\n\u001b[1;32m      5\u001b[0m \u001b[0mrs\u001b[0m\u001b[0;34m.\u001b[0m\u001b[0mtraining_docs\u001b[0m \u001b[0;34m=\u001b[0m \u001b[0mfreqSum\u001b[0m\u001b[0;34m.\u001b[0m\u001b[0mtraining_docs\u001b[0m\u001b[0;34m\u001b[0m\u001b[0;34m\u001b[0m\u001b[0m\n\u001b[0;32m----> 6\u001b[0;31m \u001b[0mrs\u001b[0m\u001b[0;34m.\u001b[0m\u001b[0mtrain\u001b[0m\u001b[0;34m(\u001b[0m\u001b[0;34m)\u001b[0m\u001b[0;34m\u001b[0m\u001b[0;34m\u001b[0m\u001b[0m\n\u001b[0m\u001b[1;32m      7\u001b[0m \u001b[0;31m# test on duc2004\u001b[0m\u001b[0;34m\u001b[0m\u001b[0;34m\u001b[0m\u001b[0;34m\u001b[0m\u001b[0m\n\u001b[1;32m      8\u001b[0m \u001b[0mrs\u001b[0m\u001b[0;34m.\u001b[0m\u001b[0mtest_dir\u001b[0m \u001b[0;34m=\u001b[0m \u001b[0;34m\"/Users/nathan/Documents/Data/summarization/duc2004\"\u001b[0m\u001b[0;34m\u001b[0m\u001b[0;34m\u001b[0m\u001b[0m\n",
      "\u001b[0;32m~/Projects/udacity-mlnd-capstone-project/summerizer/regsum.py\u001b[0m in \u001b[0;36mtrain\u001b[0;34m(self)\u001b[0m\n\u001b[1;32m     33\u001b[0m         \u001b[0;34m:\u001b[0m\u001b[0;32mreturn\u001b[0m\u001b[0;34m:\u001b[0m\u001b[0;34m\u001b[0m\u001b[0;34m\u001b[0m\u001b[0m\n\u001b[1;32m     34\u001b[0m         \"\"\"\n\u001b[0;32m---> 35\u001b[0;31m         \u001b[0mself\u001b[0m\u001b[0;34m.\u001b[0m\u001b[0m__generate_training_features\u001b[0m\u001b[0;34m(\u001b[0m\u001b[0;34m)\u001b[0m\u001b[0;34m\u001b[0m\u001b[0;34m\u001b[0m\u001b[0m\n\u001b[0m\u001b[1;32m     36\u001b[0m         \u001b[0mself\u001b[0m\u001b[0;34m.\u001b[0m\u001b[0m__get_labels\u001b[0m\u001b[0;34m(\u001b[0m\u001b[0;34m)\u001b[0m\u001b[0;34m\u001b[0m\u001b[0;34m\u001b[0m\u001b[0m\n\u001b[1;32m     37\u001b[0m \u001b[0;34m\u001b[0m\u001b[0m\n",
      "\u001b[0;32m~/Projects/udacity-mlnd-capstone-project/summerizer/regsum.py\u001b[0m in \u001b[0;36m__generate_training_features\u001b[0;34m(self)\u001b[0m\n\u001b[1;32m    127\u001b[0m                 \u001b[0mglobal_counts\u001b[0m\u001b[0;34m[\u001b[0m\u001b[0mword\u001b[0m\u001b[0;34m]\u001b[0m \u001b[0;34m=\u001b[0m \u001b[0mglobal_counts\u001b[0m\u001b[0;34m.\u001b[0m\u001b[0mget\u001b[0m\u001b[0;34m(\u001b[0m\u001b[0mword\u001b[0m\u001b[0;34m,\u001b[0m \u001b[0;36m0\u001b[0m\u001b[0;34m)\u001b[0m \u001b[0;34m+\u001b[0m \u001b[0mcount\u001b[0m\u001b[0;34m\u001b[0m\u001b[0;34m\u001b[0m\u001b[0m\n\u001b[1;32m    128\u001b[0m \u001b[0;34m\u001b[0m\u001b[0m\n\u001b[0;32m--> 129\u001b[0;31m             \u001b[0;31m# get the top 1000 words in the training set\u001b[0m\u001b[0;34m\u001b[0m\u001b[0;34m\u001b[0m\u001b[0;34m\u001b[0m\u001b[0m\n\u001b[0m\u001b[1;32m    130\u001b[0m             self.top_1000_counts = sorted(global_counts.items(),\n\u001b[1;32m    131\u001b[0m                                           \u001b[0mkey\u001b[0m\u001b[0;34m=\u001b[0m\u001b[0moperator\u001b[0m\u001b[0;34m.\u001b[0m\u001b[0mitemgetter\u001b[0m\u001b[0;34m(\u001b[0m\u001b[0;36m1\u001b[0m\u001b[0;34m)\u001b[0m\u001b[0;34m,\u001b[0m\u001b[0;34m\u001b[0m\u001b[0;34m\u001b[0m\u001b[0m\n",
      "\u001b[0;32m~/Projects/udacity-mlnd-capstone-project/summerizer/regsum.py\u001b[0m in \u001b[0;36m__unsupervised_features\u001b[0;34m(self, all_doc_sets, feature_vectors)\u001b[0m\n\u001b[1;32m    158\u001b[0m                         \u001b[0mfeature_vector\u001b[0m \u001b[0;34m=\u001b[0m \u001b[0;34m{\u001b[0m\u001b[0;34m}\u001b[0m\u001b[0;34m\u001b[0m\u001b[0;34m\u001b[0m\u001b[0m\n\u001b[1;32m    159\u001b[0m                         \u001b[0mrow_uuid\u001b[0m \u001b[0;34m=\u001b[0m \u001b[0muuid\u001b[0m\u001b[0;34m.\u001b[0m\u001b[0muuid4\u001b[0m\u001b[0;34m(\u001b[0m\u001b[0;34m)\u001b[0m\u001b[0;34m\u001b[0m\u001b[0;34m\u001b[0m\u001b[0m\n\u001b[0;32m--> 160\u001b[0;31m                         \u001b[0;31m# Where the mapping from a particular word in the data to uuid is set\u001b[0m\u001b[0;34m\u001b[0m\u001b[0;34m\u001b[0m\u001b[0;34m\u001b[0m\u001b[0m\n\u001b[0m\u001b[1;32m    161\u001b[0m                         \u001b[0mself\u001b[0m\u001b[0;34m.\u001b[0m\u001b[0mwords2uuids\u001b[0m\u001b[0;34m[\u001b[0m\u001b[0mword_key\u001b[0m\u001b[0;34m]\u001b[0m \u001b[0;34m=\u001b[0m \u001b[0mrow_uuid\u001b[0m\u001b[0;34m\u001b[0m\u001b[0;34m\u001b[0m\u001b[0m\n\u001b[1;32m    162\u001b[0m                         \u001b[0mfeature_vector\u001b[0m\u001b[0;34m[\u001b[0m\u001b[0;34m\"uuid\"\u001b[0m\u001b[0;34m]\u001b[0m \u001b[0;34m=\u001b[0m \u001b[0mrow_uuid\u001b[0m\u001b[0;34m\u001b[0m\u001b[0;34m\u001b[0m\u001b[0m\n",
      "\u001b[0;32m~/Projects/udacity-mlnd-capstone-project/summerizer/regsum.py\u001b[0m in \u001b[0;36mtop_word_features\u001b[0;34m(self, feature_vector, word)\u001b[0m\n\u001b[1;32m    168\u001b[0m                     \u001b[0ms\u001b[0m \u001b[0;34m+=\u001b[0m \u001b[0;36m1\u001b[0m\u001b[0;34m\u001b[0m\u001b[0;34m\u001b[0m\u001b[0m\n\u001b[1;32m    169\u001b[0m                 \u001b[0;31m# FutureWork: LLR -  current document terms vs entire training corpus\u001b[0m\u001b[0;34m\u001b[0m\u001b[0;34m\u001b[0m\u001b[0;34m\u001b[0m\u001b[0m\n\u001b[0;32m--> 170\u001b[0;31m                 \u001b[0;31m# TextRank\u001b[0m\u001b[0;34m\u001b[0m\u001b[0;34m\u001b[0m\u001b[0;34m\u001b[0m\u001b[0m\n\u001b[0m\u001b[1;32m    171\u001b[0m                 \u001b[0;31m# sentences = doc.annotations[\"sentences\"]\u001b[0m\u001b[0;34m\u001b[0m\u001b[0;34m\u001b[0m\u001b[0;34m\u001b[0m\u001b[0m\n\u001b[1;32m    172\u001b[0m                 \u001b[0;31m# ranked_sentences = self.__get_text_rank(sentences)[:3]\u001b[0m\u001b[0;34m\u001b[0m\u001b[0;34m\u001b[0m\u001b[0;34m\u001b[0m\u001b[0m\n",
      "\u001b[0;31mKeyboardInterrupt\u001b[0m: "
     ],
     "ename": "KeyboardInterrupt",
     "evalue": "",
     "output_type": "error"
    }
   ],
   "source": [
    "from summerizer.regsum import RegSum\n",
    "rs = RegSum()\n",
    "# train on duc2003\n",
    "rs.training_dir = freqSum.training_dir\n",
    "rs.training_docs = freqSum.training_docs\n",
    "rs.train()\n",
    "# test on duc2004\n",
    "rs.test_dir = \"/Users/nathan/Documents/Data/summarization/duc2004\"\n",
    "rs.test_docs =  [ \"0\", \"1\", \"10\", \"11\", \"12\", \"13\", \"14\", \"15\", \"16\", \"17\", \n",
    "                  \"18\", \"19\", \"2\", \"20\", \"21\", \"22\", \"23\", \"24\", \"25\", \"26\",\n",
    "                  \"27\", \"28\", \"29\", \"3\", \"30\", \"31\", \"32\", \"33\", \"34\", \"35\",\n",
    "                  \"36\", \"37\", \"38\", \"39\", \"4\", \"40\", \"41\", \"42\", \"43\", \"44\",\n",
    "                  \"45\", \"46\", \"47\", \"48\", \"49\", \"5\", \"6\", \"7\", \"8\", \"9\"]\n",
    "regsum_scores = rs.predict()"
   ],
   "metadata": {
    "collapsed": false,
    "pycharm": {
     "name": "#%%\n",
     "is_executing": false
    }
   }
  },
  {
   "cell_type": "markdown",
   "source": [
    "Now we can create the summaries & score the test documents..."
   ],
   "metadata": {
    "collapsed": false,
    "pycharm": {
     "name": "#%% md\n"
    }
   }
  },
  {
   "cell_type": "code",
   "execution_count": null,
   "outputs": [],
   "source": [
    "regsum_summaries = rs.create_summary(regsum_scores)\n",
    "scores = rs.score(regsum_summaries)\n",
    "print(scores)"
   ],
   "metadata": {
    "collapsed": false,
    "pycharm": {
     "name": "#%%\n",
     "is_executing": false
    }
   }
  },
  {
   "cell_type": "markdown",
   "source": [
    "## On Demand Summarization"
   ],
   "metadata": {
    "collapsed": false
   }
  }
 ],
 "metadata": {
  "language_info": {
   "codemirror_mode": {
    "name": "ipython",
    "version": 2
   },
   "file_extension": ".py",
   "mimetype": "text/x-python",
   "name": "python",
   "nbconvert_exporter": "python",
   "pygments_lexer": "ipython2",
   "version": "2.7.6"
  },
  "kernelspec": {
   "name": "python3",
   "language": "python",
   "display_name": "Python 3"
  },
  "pycharm": {
   "stem_cell": {
    "cell_type": "raw",
    "source": [],
    "metadata": {
     "collapsed": false
    }
   }
  }
 },
 "nbformat": 4,
 "nbformat_minor": 0
}